{
  "nbformat": 4,
  "nbformat_minor": 0,
  "metadata": {
    "colab": {
      "name": "hw_7.ipynb",
      "provenance": []
    },
    "kernelspec": {
      "name": "python3",
      "display_name": "Python 3"
    },
    "language_info": {
      "name": "python"
    }
  },
  "cells": [
    {
      "cell_type": "code",
      "metadata": {
        "id": "W00mDEzWwCcV"
      },
      "source": [
        "import pandas as pd"
      ],
      "execution_count": 183,
      "outputs": []
    },
    {
      "cell_type": "code",
      "metadata": {
        "colab": {
          "base_uri": "https://localhost:8080/",
          "height": 204
        },
        "id": "WFiV_kScwGCP",
        "outputId": "dc20bfae-6a3d-4112-c31b-587fd181f14d"
      },
      "source": [
        "df = pd.read_excel('home_work.xls')\n",
        "df.head()"
      ],
      "execution_count": 221,
      "outputs": [
        {
          "output_type": "execute_result",
          "data": {
            "text/html": [
              "<div>\n",
              "<style scoped>\n",
              "    .dataframe tbody tr th:only-of-type {\n",
              "        vertical-align: middle;\n",
              "    }\n",
              "\n",
              "    .dataframe tbody tr th {\n",
              "        vertical-align: top;\n",
              "    }\n",
              "\n",
              "    .dataframe thead th {\n",
              "        text-align: right;\n",
              "    }\n",
              "</style>\n",
              "<table border=\"1\" class=\"dataframe\">\n",
              "  <thead>\n",
              "    <tr style=\"text-align: right;\">\n",
              "      <th></th>\n",
              "      <th>Rating</th>\n",
              "      <th>Content</th>\n",
              "      <th>Date</th>\n",
              "    </tr>\n",
              "  </thead>\n",
              "  <tbody>\n",
              "    <tr>\n",
              "      <th>0</th>\n",
              "      <td>5</td>\n",
              "      <td>It just works!</td>\n",
              "      <td>2017-08-14</td>\n",
              "    </tr>\n",
              "    <tr>\n",
              "      <th>1</th>\n",
              "      <td>4</td>\n",
              "      <td>В целом удобноное приложение...из минусов хотя...</td>\n",
              "      <td>2017-08-14</td>\n",
              "    </tr>\n",
              "    <tr>\n",
              "      <th>2</th>\n",
              "      <td>5</td>\n",
              "      <td>Отлично все</td>\n",
              "      <td>2017-08-14</td>\n",
              "    </tr>\n",
              "    <tr>\n",
              "      <th>3</th>\n",
              "      <td>5</td>\n",
              "      <td>Стал зависать на 1% работы антивируса. Дальше ...</td>\n",
              "      <td>2017-08-14</td>\n",
              "    </tr>\n",
              "    <tr>\n",
              "      <th>4</th>\n",
              "      <td>5</td>\n",
              "      <td>Очень удобно, работает быстро.</td>\n",
              "      <td>2017-08-14</td>\n",
              "    </tr>\n",
              "  </tbody>\n",
              "</table>\n",
              "</div>"
            ],
            "text/plain": [
              "   Rating                                            Content        Date\n",
              "0       5                                     It just works!  2017-08-14\n",
              "1       4  В целом удобноное приложение...из минусов хотя...  2017-08-14\n",
              "2       5                                        Отлично все  2017-08-14\n",
              "3       5  Стал зависать на 1% работы антивируса. Дальше ...  2017-08-14\n",
              "4       5                     Очень удобно, работает быстро.  2017-08-14"
            ]
          },
          "metadata": {},
          "execution_count": 221
        }
      ]
    },
    {
      "cell_type": "code",
      "metadata": {
        "colab": {
          "base_uri": "https://localhost:8080/"
        },
        "id": "T9WC2jQ-wcg9",
        "outputId": "f2245837-9fb8-4d02-dd7b-a59a9622cdac"
      },
      "source": [
        "data.Rating.value_counts()"
      ],
      "execution_count": 185,
      "outputs": [
        {
          "output_type": "execute_result",
          "data": {
            "text/plain": [
              "5    14586\n",
              "1     2276\n",
              "4     2138\n",
              "3      911\n",
              "2      748\n",
              "Name: Rating, dtype: int64"
            ]
          },
          "metadata": {},
          "execution_count": 185
        }
      ]
    },
    {
      "cell_type": "markdown",
      "metadata": {
        "id": "H4Xwruv0w-8n"
      },
      "source": [
        "Preprocessing"
      ]
    },
    {
      "cell_type": "code",
      "metadata": {
        "colab": {
          "base_uri": "https://localhost:8080/"
        },
        "id": "LY3HVpogwrwF",
        "outputId": "d43b3539-ae60-4bd1-91ad-ab6b20181f5e"
      },
      "source": [
        "!pip install stop_words\n",
        "!pip install pymorphy2\n",
        "from string import punctuation\n",
        "from stop_words import get_stop_words\n",
        "from pymorphy2 import MorphAnalyzer\n",
        "import re"
      ],
      "execution_count": 227,
      "outputs": [
        {
          "output_type": "stream",
          "name": "stdout",
          "text": [
            "Requirement already satisfied: stop_words in /usr/local/lib/python3.7/dist-packages (2018.7.23)\n",
            "Requirement already satisfied: pymorphy2 in /usr/local/lib/python3.7/dist-packages (0.9.1)\n",
            "Requirement already satisfied: dawg-python>=0.7.1 in /usr/local/lib/python3.7/dist-packages (from pymorphy2) (0.7.2)\n",
            "Requirement already satisfied: pymorphy2-dicts-ru<3.0,>=2.4 in /usr/local/lib/python3.7/dist-packages (from pymorphy2) (2.4.417127.4579844)\n",
            "Requirement already satisfied: docopt>=0.6 in /usr/local/lib/python3.7/dist-packages (from pymorphy2) (0.6.2)\n"
          ]
        }
      ]
    },
    {
      "cell_type": "code",
      "metadata": {
        "id": "D6JybqL5xCNX"
      },
      "source": [
        "sw = set(get_stop_words(\"ru\"))\n",
        "exclude = set(punctuation)\n",
        "morpher = MorphAnalyzer()\n",
        "\n",
        "def preprocess_text(txt):\n",
        "    txt = str(txt)\n",
        "    txt = \"\".join(c for c in txt if c not in exclude)\n",
        "    txt = txt.lower()\n",
        "    txt = re.sub(\"\\sне\", \"не\", txt)\n",
        "    txt = [morpher.parse(word)[0].normal_form for word in txt.split() if word not in sw]\n",
        "    return \" \".join(txt)"
      ],
      "execution_count": 230,
      "outputs": []
    },
    {
      "cell_type": "code",
      "metadata": {
        "id": "fuk9_J8bxRju"
      },
      "source": [
        "df['new_content'] = df.Content.apply(preprocess_text)"
      ],
      "execution_count": 232,
      "outputs": []
    },
    {
      "cell_type": "code",
      "metadata": {
        "colab": {
          "base_uri": "https://localhost:8080/",
          "height": 142
        },
        "id": "cNDsa3Rxxbeu",
        "outputId": "d0510948-f2fc-4b82-80de-89317e9209f5"
      },
      "source": [
        "df.head(3)"
      ],
      "execution_count": 233,
      "outputs": [
        {
          "output_type": "execute_result",
          "data": {
            "text/html": [
              "<div>\n",
              "<style scoped>\n",
              "    .dataframe tbody tr th:only-of-type {\n",
              "        vertical-align: middle;\n",
              "    }\n",
              "\n",
              "    .dataframe tbody tr th {\n",
              "        vertical-align: top;\n",
              "    }\n",
              "\n",
              "    .dataframe thead th {\n",
              "        text-align: right;\n",
              "    }\n",
              "</style>\n",
              "<table border=\"1\" class=\"dataframe\">\n",
              "  <thead>\n",
              "    <tr style=\"text-align: right;\">\n",
              "      <th></th>\n",
              "      <th>Rating</th>\n",
              "      <th>Content</th>\n",
              "      <th>Date</th>\n",
              "      <th>new_content</th>\n",
              "    </tr>\n",
              "  </thead>\n",
              "  <tbody>\n",
              "    <tr>\n",
              "      <th>0</th>\n",
              "      <td>5</td>\n",
              "      <td>It just works!</td>\n",
              "      <td>2017-08-14</td>\n",
              "      <td>it just works</td>\n",
              "    </tr>\n",
              "    <tr>\n",
              "      <th>1</th>\n",
              "      <td>4</td>\n",
              "      <td>В целом удобноное приложение...из минусов хотя...</td>\n",
              "      <td>2017-08-14</td>\n",
              "      <td>целое удобноной приложениеиз минус хотеть боль...</td>\n",
              "    </tr>\n",
              "    <tr>\n",
              "      <th>2</th>\n",
              "      <td>5</td>\n",
              "      <td>Отлично все</td>\n",
              "      <td>2017-08-14</td>\n",
              "      <td>отлично</td>\n",
              "    </tr>\n",
              "  </tbody>\n",
              "</table>\n",
              "</div>"
            ],
            "text/plain": [
              "   Rating  ...                                        new_content\n",
              "0       5  ...                                      it just works\n",
              "1       4  ...  целое удобноной приложениеиз минус хотеть боль...\n",
              "2       5  ...                                            отлично\n",
              "\n",
              "[3 rows x 4 columns]"
            ]
          },
          "metadata": {},
          "execution_count": 233
        }
      ]
    },
    {
      "cell_type": "code",
      "metadata": {
        "id": "waagYUyAyt-G"
      },
      "source": [
        "train = df[:int(len(df) * 0.7 - 1)]\n",
        "test = df[int(len(df) * 0.7 - 1):]"
      ],
      "execution_count": 234,
      "outputs": []
    },
    {
      "cell_type": "markdown",
      "metadata": {
        "id": "AB9BNxF5yl2_"
      },
      "source": [
        "Data Filtration"
      ]
    },
    {
      "cell_type": "code",
      "metadata": {
        "colab": {
          "base_uri": "https://localhost:8080/"
        },
        "id": "_ALfNEIfyZj3",
        "outputId": "32158a6c-36b1-4899-c191-d330874fa605"
      },
      "source": [
        "import nltk\n",
        "from nltk.tokenize import word_tokenize\n",
        "nltk.download(\"punkt\")\n",
        "\n",
        "tokens = word_tokenize(\" \".join(train.new_content))"
      ],
      "execution_count": 191,
      "outputs": [
        {
          "output_type": "stream",
          "name": "stdout",
          "text": [
            "[nltk_data] Downloading package punkt to /root/nltk_data...\n",
            "[nltk_data]   Package punkt is already up-to-date!\n"
          ]
        }
      ]
    },
    {
      "cell_type": "code",
      "metadata": {
        "id": "sqw4W4f_yn_j"
      },
      "source": [
        "tokens_filtered = [word for word in tokens if word.isalnum()]"
      ],
      "execution_count": 192,
      "outputs": []
    },
    {
      "cell_type": "code",
      "metadata": {
        "id": "pIlrQWgZzMXX"
      },
      "source": [
        "from nltk.probability import FreqDist\n",
        "max_words = 200\n",
        "dist = FreqDist(tokens_filtered)\n",
        "tokens_filtered_top = [pair[0] for pair in dist.most_common(max_words-1)]"
      ],
      "execution_count": 193,
      "outputs": []
    },
    {
      "cell_type": "code",
      "metadata": {
        "colab": {
          "base_uri": "https://localhost:8080/"
        },
        "id": "fgD2BSWTzN0l",
        "outputId": "a0a2fd8a-e4e1-426f-81e8-d3e6f6b533f0"
      },
      "source": [
        "tokens_filtered_top[:10]"
      ],
      "execution_count": 194,
      "outputs": [
        {
          "output_type": "execute_result",
          "data": {
            "text/plain": [
              "['приложение',\n",
              " 'удобно',\n",
              " 'работать',\n",
              " 'удобный',\n",
              " 'отлично',\n",
              " 'нравиться',\n",
              " 'хороший',\n",
              " 'отличный',\n",
              " 'супер',\n",
              " 'телефон']"
            ]
          },
          "metadata": {},
          "execution_count": 194
        }
      ]
    },
    {
      "cell_type": "code",
      "metadata": {
        "id": "2-GQCoUWzUx-"
      },
      "source": [
        "vocabulary = {v: k for k, v in dict(enumerate(tokens_filtered_top, 1)).items()}"
      ],
      "execution_count": 195,
      "outputs": []
    },
    {
      "cell_type": "code",
      "metadata": {
        "id": "8BQBB4-nz5pm"
      },
      "source": [
        "import numpy as np\n",
        "\n",
        "def text_to_sequence(text, maxlen):\n",
        "    result = []\n",
        "    tokens = word_tokenize(text.lower())\n",
        "    tokens_filtered = [word for word in tokens if word.isalnum()]\n",
        "    for word in tokens_filtered:\n",
        "        if word in vocabulary:\n",
        "            result.append(vocabulary[word])\n",
        "    padding = [0]*(maxlen-len(result))\n",
        "    return padding + result[-maxlen:]"
      ],
      "execution_count": 196,
      "outputs": []
    },
    {
      "cell_type": "code",
      "metadata": {
        "id": "1VN6R7AAz71A"
      },
      "source": [
        "max_len = 40\n",
        "x_train = np.asarray([text_to_sequence(text, max_len) for text in train[\"new_content\"]], dtype=np.int32)\n",
        "x_test = np.asarray([text_to_sequence(text, max_len) for text in test[\"new_content\"]], dtype=np.int32)"
      ],
      "execution_count": 197,
      "outputs": []
    },
    {
      "cell_type": "code",
      "metadata": {
        "id": "O0VrfI2K1LkP"
      },
      "source": [
        "y_train = np.array(train.Rating.tolist())\n",
        "y_test = np.array(test.Rating.tolist())"
      ],
      "execution_count": 198,
      "outputs": []
    },
    {
      "cell_type": "code",
      "metadata": {
        "colab": {
          "base_uri": "https://localhost:8080/"
        },
        "id": "3Vsa2IDI3qws",
        "outputId": "a004b30c-64cc-40e1-937f-d0119b13b6d6"
      },
      "source": [
        "y_train"
      ],
      "execution_count": 199,
      "outputs": [
        {
          "output_type": "execute_result",
          "data": {
            "text/plain": [
              "array([5, 4, 5, ..., 3, 5, 5])"
            ]
          },
          "metadata": {},
          "execution_count": 199
        }
      ]
    },
    {
      "cell_type": "markdown",
      "metadata": {
        "id": "ad_43i1A1ijt"
      },
      "source": [
        "# Keras model"
      ]
    },
    {
      "cell_type": "code",
      "metadata": {
        "id": "S6dQcbwt1dSn"
      },
      "source": [
        "import numpy as np\n",
        "import tensorflow as tf\n",
        "from tensorflow.keras.models import Sequential, Model\n",
        "from tensorflow.keras.layers import Dense, Dropout, Activation, Input, Embedding, Conv1D, GlobalMaxPool1D\n",
        "from tensorflow.keras.preprocessing.text import Tokenizer\n",
        "from tensorflow.keras.preprocessing.sequence import pad_sequences\n",
        "from tensorflow.keras.callbacks import TensorBoard \n",
        "from tensorflow.keras.metrics import categorical_crossentropy\n",
        "from tensorflow.keras.callbacks import EarlyStopping  "
      ],
      "execution_count": 200,
      "outputs": []
    },
    {
      "cell_type": "code",
      "metadata": {
        "id": "riEpHSQ_1tYb"
      },
      "source": [
        "num_classes = 5 \n",
        "model = Sequential()\n",
        "model.add(Embedding(input_dim=max_words, output_dim=128, input_length=max_len))\n",
        "model.add(Conv1D(128, 3))\n",
        "model.add(Activation(\"relu\"))\n",
        "model.add(GlobalMaxPool1D())\n",
        "model.add(Dense(10))\n",
        "model.add(Activation(\"relu\"))\n",
        "model.add(Dense(num_classes))\n",
        "model.add(Activation('softmax'))"
      ],
      "execution_count": 201,
      "outputs": []
    },
    {
      "cell_type": "code",
      "metadata": {
        "colab": {
          "base_uri": "https://localhost:8080/"
        },
        "id": "OXkh3Mt35Rwf",
        "outputId": "f6aee22e-320e-4cbf-8cc6-6e7c2e2ec61b"
      },
      "source": [
        "model.summary()"
      ],
      "execution_count": 202,
      "outputs": [
        {
          "output_type": "stream",
          "name": "stdout",
          "text": [
            "Model: \"sequential_4\"\n",
            "_________________________________________________________________\n",
            "Layer (type)                 Output Shape              Param #   \n",
            "=================================================================\n",
            "embedding_4 (Embedding)      (None, 40, 128)           25600     \n",
            "_________________________________________________________________\n",
            "conv1d_4 (Conv1D)            (None, 38, 128)           49280     \n",
            "_________________________________________________________________\n",
            "activation_12 (Activation)   (None, 38, 128)           0         \n",
            "_________________________________________________________________\n",
            "global_max_pooling1d_4 (Glob (None, 128)               0         \n",
            "_________________________________________________________________\n",
            "dense_8 (Dense)              (None, 10)                1290      \n",
            "_________________________________________________________________\n",
            "activation_13 (Activation)   (None, 10)                0         \n",
            "_________________________________________________________________\n",
            "dense_9 (Dense)              (None, 5)                 55        \n",
            "_________________________________________________________________\n",
            "activation_14 (Activation)   (None, 5)                 0         \n",
            "=================================================================\n",
            "Total params: 76,225\n",
            "Trainable params: 76,225\n",
            "Non-trainable params: 0\n",
            "_________________________________________________________________\n"
          ]
        }
      ]
    },
    {
      "cell_type": "code",
      "metadata": {
        "colab": {
          "base_uri": "https://localhost:8080/"
        },
        "id": "U-yX4yia4Jj8",
        "outputId": "715bf9ff-d49c-4872-95fe-e925b50fbb1a"
      },
      "source": [
        "train[\"Rating\"] = train[\"Rating\"].apply(lambda x: x -1 )\n",
        "test[\"Rating\"] = test[\"Rating\"].apply(lambda x: x -1 )"
      ],
      "execution_count": 203,
      "outputs": [
        {
          "output_type": "stream",
          "name": "stderr",
          "text": [
            "/usr/local/lib/python3.7/dist-packages/ipykernel_launcher.py:1: SettingWithCopyWarning: \n",
            "A value is trying to be set on a copy of a slice from a DataFrame.\n",
            "Try using .loc[row_indexer,col_indexer] = value instead\n",
            "\n",
            "See the caveats in the documentation: https://pandas.pydata.org/pandas-docs/stable/user_guide/indexing.html#returning-a-view-versus-a-copy\n",
            "  \"\"\"Entry point for launching an IPython kernel.\n",
            "/usr/local/lib/python3.7/dist-packages/ipykernel_launcher.py:2: SettingWithCopyWarning: \n",
            "A value is trying to be set on a copy of a slice from a DataFrame.\n",
            "Try using .loc[row_indexer,col_indexer] = value instead\n",
            "\n",
            "See the caveats in the documentation: https://pandas.pydata.org/pandas-docs/stable/user_guide/indexing.html#returning-a-view-versus-a-copy\n",
            "  \n"
          ]
        }
      ]
    },
    {
      "cell_type": "code",
      "metadata": {
        "id": "kF0nN5mh3_uB"
      },
      "source": [
        "y_train = keras.utils.to_categorical(train[\"Rating\"])\n",
        "y_val = keras.utils.to_categorical(test[\"Rating\"])"
      ],
      "execution_count": 204,
      "outputs": []
    },
    {
      "cell_type": "code",
      "metadata": {
        "colab": {
          "base_uri": "https://localhost:8080/"
        },
        "id": "0cgpnHw-4l2E",
        "outputId": "e65debd7-4ec4-48c3-ff8a-a6fe0c93913b"
      },
      "source": [
        "y_train[0]"
      ],
      "execution_count": 205,
      "outputs": [
        {
          "output_type": "execute_result",
          "data": {
            "text/plain": [
              "array([0., 0., 0., 0., 1.], dtype=float32)"
            ]
          },
          "metadata": {},
          "execution_count": 205
        }
      ]
    },
    {
      "cell_type": "code",
      "metadata": {
        "id": "gx0HlIKP2kek"
      },
      "source": [
        "model.compile(loss='categorical_crossentropy',\n",
        "              optimizer='adam',\n",
        "              metrics=['accuracy'])"
      ],
      "execution_count": 206,
      "outputs": []
    },
    {
      "cell_type": "code",
      "metadata": {
        "colab": {
          "base_uri": "https://localhost:8080/"
        },
        "id": "d9l2Tjsg5xq5",
        "outputId": "dd78c3ff-b329-4f63-fd7b-7041287dfd46"
      },
      "source": [
        "y_train.shape"
      ],
      "execution_count": 207,
      "outputs": [
        {
          "output_type": "execute_result",
          "data": {
            "text/plain": [
              "(14460, 5)"
            ]
          },
          "metadata": {},
          "execution_count": 207
        }
      ]
    },
    {
      "cell_type": "code",
      "metadata": {
        "colab": {
          "base_uri": "https://localhost:8080/"
        },
        "id": "nP6LTh9Q24St",
        "outputId": "524c63ef-21d2-4fa1-a672-29723220f9ba"
      },
      "source": [
        "model.compile(loss='categorical_crossentropy',\n",
        "              optimizer='adam',\n",
        "              metrics=['accuracy'])\n",
        "batch_size = 512\n",
        "epochs = 20\n",
        "print_batch_n = 100\n",
        "\n",
        "tensorboard=TensorBoard(log_dir='./logs', write_graph=True, write_images=True)\n",
        "# early_stopping=EarlyStopping(monitor='loss')  \n",
        "\n",
        "\n",
        "history = model.fit(x_train, y_train,\n",
        "                    batch_size=batch_size,\n",
        "                    epochs=epochs,\n",
        "                    verbose=1,\n",
        "                    validation_split=0.1,\n",
        "                    callbacks=[tensorboard, ])#early_stopping])"
      ],
      "execution_count": 208,
      "outputs": [
        {
          "output_type": "stream",
          "name": "stdout",
          "text": [
            "Epoch 1/20\n",
            "26/26 [==============================] - 5s 162ms/step - loss: 1.4270 - accuracy: 0.5475 - val_loss: 1.2656 - val_accuracy: 0.6923\n",
            "Epoch 2/20\n",
            "26/26 [==============================] - 4s 153ms/step - loss: 1.1676 - accuracy: 0.7330 - val_loss: 1.1441 - val_accuracy: 0.6923\n",
            "Epoch 3/20\n",
            "26/26 [==============================] - 4s 154ms/step - loss: 1.0023 - accuracy: 0.7337 - val_loss: 0.9040 - val_accuracy: 0.7130\n",
            "Epoch 4/20\n",
            "26/26 [==============================] - 4s 154ms/step - loss: 0.7436 - accuracy: 0.7482 - val_loss: 0.7930 - val_accuracy: 0.7303\n",
            "Epoch 5/20\n",
            "26/26 [==============================] - 4s 152ms/step - loss: 0.6850 - accuracy: 0.7659 - val_loss: 0.7713 - val_accuracy: 0.7303\n",
            "Epoch 6/20\n",
            "26/26 [==============================] - 4s 153ms/step - loss: 0.6639 - accuracy: 0.7715 - val_loss: 0.7597 - val_accuracy: 0.7324\n",
            "Epoch 7/20\n",
            "26/26 [==============================] - 4s 153ms/step - loss: 0.6518 - accuracy: 0.7732 - val_loss: 0.7555 - val_accuracy: 0.7344\n",
            "Epoch 8/20\n",
            "26/26 [==============================] - 4s 153ms/step - loss: 0.6429 - accuracy: 0.7759 - val_loss: 0.7514 - val_accuracy: 0.7358\n",
            "Epoch 9/20\n",
            "26/26 [==============================] - 4s 153ms/step - loss: 0.6361 - accuracy: 0.7783 - val_loss: 0.7492 - val_accuracy: 0.7351\n",
            "Epoch 10/20\n",
            "26/26 [==============================] - 4s 151ms/step - loss: 0.6298 - accuracy: 0.7809 - val_loss: 0.7472 - val_accuracy: 0.7386\n",
            "Epoch 11/20\n",
            "26/26 [==============================] - 4s 154ms/step - loss: 0.6233 - accuracy: 0.7825 - val_loss: 0.7435 - val_accuracy: 0.7434\n",
            "Epoch 12/20\n",
            "26/26 [==============================] - 4s 154ms/step - loss: 0.6198 - accuracy: 0.7829 - val_loss: 0.7424 - val_accuracy: 0.7448\n",
            "Epoch 13/20\n",
            "26/26 [==============================] - 4s 151ms/step - loss: 0.6144 - accuracy: 0.7864 - val_loss: 0.7436 - val_accuracy: 0.7441\n",
            "Epoch 14/20\n",
            "26/26 [==============================] - 4s 151ms/step - loss: 0.6108 - accuracy: 0.7888 - val_loss: 0.7508 - val_accuracy: 0.7386\n",
            "Epoch 15/20\n",
            "26/26 [==============================] - 4s 151ms/step - loss: 0.6085 - accuracy: 0.7900 - val_loss: 0.7446 - val_accuracy: 0.7441\n",
            "Epoch 16/20\n",
            "26/26 [==============================] - 4s 151ms/step - loss: 0.6037 - accuracy: 0.7915 - val_loss: 0.7479 - val_accuracy: 0.7434\n",
            "Epoch 17/20\n",
            "26/26 [==============================] - 4s 153ms/step - loss: 0.6002 - accuracy: 0.7930 - val_loss: 0.7473 - val_accuracy: 0.7427\n",
            "Epoch 18/20\n",
            "26/26 [==============================] - 4s 153ms/step - loss: 0.5972 - accuracy: 0.7945 - val_loss: 0.7512 - val_accuracy: 0.7407\n",
            "Epoch 19/20\n",
            "26/26 [==============================] - 4s 153ms/step - loss: 0.5944 - accuracy: 0.7965 - val_loss: 0.7578 - val_accuracy: 0.7379\n",
            "Epoch 20/20\n",
            "26/26 [==============================] - 4s 152ms/step - loss: 0.5907 - accuracy: 0.7975 - val_loss: 0.7539 - val_accuracy: 0.7414\n"
          ]
        }
      ]
    },
    {
      "cell_type": "code",
      "metadata": {
        "colab": {
          "base_uri": "https://localhost:8080/"
        },
        "id": "0Ly5IhuCmSGC",
        "outputId": "2ef6f053-9505-4cfc-8c66-a81396508a1b"
      },
      "source": [
        "score = model.evaluate(x_test, y_val, batch_size=batch_size, verbose=1)\n",
        "print('\\n')\n",
        "print('Test score:', score[0])\n",
        "print('Test accuracy:', score[1])"
      ],
      "execution_count": 209,
      "outputs": [
        {
          "output_type": "stream",
          "name": "stdout",
          "text": [
            "13/13 [==============================] - 1s 40ms/step - loss: 0.7679 - accuracy: 0.7409\n",
            "\n",
            "\n",
            "Test score: 0.767925500869751\n",
            "Test accuracy: 0.7409259676933289\n"
          ]
        }
      ]
    },
    {
      "cell_type": "markdown",
      "metadata": {
        "id": "toD_DcGQllvq"
      },
      "source": [
        "Инициализировать tf.keras.layers.Embedding предобученными векторами"
      ]
    },
    {
      "cell_type": "code",
      "metadata": {
        "colab": {
          "base_uri": "https://localhost:8080/"
        },
        "id": "eX0AozBY2809",
        "outputId": "f08bdc6f-8baf-4501-c2eb-54b8dac6a322"
      },
      "source": [
        "import os\n",
        "import pathlib\n",
        "\n",
        "data_path = keras.utils.get_file(\n",
        "    \"182.zip\",\n",
        "    \"http://vectors.nlpl.eu/repository/20/182.zip\",\n",
        "    untar=True,\n",
        ")"
      ],
      "execution_count": 210,
      "outputs": [
        {
          "output_type": "stream",
          "name": "stdout",
          "text": [
            "Downloading data from http://vectors.nlpl.eu/repository/20/182.zip\n",
            "637616128/637613799 [==============================] - 25s 0us/step\n",
            "637624320/637613799 [==============================] - 25s 0us/step\n"
          ]
        }
      ]
    },
    {
      "cell_type": "code",
      "metadata": {
        "colab": {
          "base_uri": "https://localhost:8080/"
        },
        "id": "9OrpsGgLsuvH",
        "outputId": "9a6aaea7-8de1-4f59-aafa-87a50be783c1"
      },
      "source": [
        "!ls /root/.keras/datasets/"
      ],
      "execution_count": 211,
      "outputs": [
        {
          "output_type": "stream",
          "name": "stdout",
          "text": [
            "182.zip  182.zip.tar.gz  195.zip\n"
          ]
        }
      ]
    },
    {
      "cell_type": "code",
      "metadata": {
        "colab": {
          "base_uri": "https://localhost:8080/"
        },
        "id": "sbORgeFEn_US",
        "outputId": "6b982704-cca9-4e7b-cab6-58a0ecc3b184"
      },
      "source": [
        "os.rename('/root/.keras/datasets/182.zip.tar.gz', '/root/.keras/datasets/182.zip')\n",
        "!unzip /root/.keras/datasets/182.zip "
      ],
      "execution_count": 212,
      "outputs": [
        {
          "output_type": "stream",
          "name": "stdout",
          "text": [
            "Archive:  /root/.keras/datasets/182.zip\n",
            "replace meta.json? [y]es, [n]o, [A]ll, [N]one, [r]ename: A\n",
            "  inflating: meta.json               \n",
            "  inflating: model.bin               \n",
            "  inflating: model.txt               A\n",
            "\n",
            "  inflating: README                  \n"
          ]
        }
      ]
    },
    {
      "cell_type": "code",
      "metadata": {
        "colab": {
          "base_uri": "https://localhost:8080/"
        },
        "id": "asjdnwhXpEPn",
        "outputId": "b9e7de0d-471f-4065-8ee9-10ecf6aaf803"
      },
      "source": [
        "embeddings_index = {}\n",
        "f = open('model.txt')\n",
        "for line in f:\n",
        "    values = line.split()\n",
        "    word = values[0]\n",
        "    coefs = np.asarray(values[1:], dtype='float32')\n",
        "    embeddings_index[word] = coefs\n",
        "f.close()\n",
        "\n",
        "print('Found %s word vectors.' % len(embeddings_index))"
      ],
      "execution_count": 214,
      "outputs": [
        {
          "output_type": "stream",
          "name": "stdout",
          "text": [
            "Found 248979 word vectors.\n"
          ]
        }
      ]
    },
    {
      "cell_type": "code",
      "metadata": {
        "colab": {
          "base_uri": "https://localhost:8080/"
        },
        "id": "UbGMAVDyvkex",
        "outputId": "9e78b474-fb57-40f1-d1f4-b534458b854c"
      },
      "source": [
        "from keras.preprocessing.text import Tokenizer\n",
        "from keras.preprocessing.sequence import pad_sequences\n",
        "\n",
        "texts = df.new_content.tolist()\n",
        "tokenizer = Tokenizer(nb_words=200)\n",
        "tokenizer.fit_on_texts(texts)\n",
        "sequences = tokenizer.texts_to_sequences(texts)\n",
        "\n",
        "word_index = tokenizer.word_index\n",
        "print('Found %s unique tokens.' % len(word_index))\n",
        "\n",
        "data = pad_sequences(sequences, maxlen=max_len)\n",
        "\n"
      ],
      "execution_count": 256,
      "outputs": [
        {
          "output_type": "stream",
          "name": "stderr",
          "text": [
            "/usr/local/lib/python3.7/dist-packages/keras_preprocessing/text.py:180: UserWarning: The `nb_words` argument in `Tokenizer` has been renamed `num_words`.\n",
            "  warnings.warn('The `nb_words` argument in `Tokenizer` '\n"
          ]
        },
        {
          "output_type": "stream",
          "name": "stdout",
          "text": [
            "Found 13485 unique tokens.\n"
          ]
        }
      ]
    },
    {
      "cell_type": "code",
      "metadata": {
        "colab": {
          "base_uri": "https://localhost:8080/"
        },
        "id": "UQyr_ZAWptSh",
        "outputId": "f10de60c-01fe-4c52-b43e-06ef70476f04"
      },
      "source": [
        "labels = np.array((df['Rating'].tolist()))\n",
        "print('Shape of data tensor:', data.shape)\n",
        "print('Shape of label tensor:', labels.shape)\n"
      ],
      "execution_count": 288,
      "outputs": [
        {
          "output_type": "stream",
          "name": "stdout",
          "text": [
            "Shape of data tensor: (20659, 40)\n",
            "Shape of label tensor: (20659,)\n"
          ]
        }
      ]
    },
    {
      "cell_type": "code",
      "metadata": {
        "id": "g3xS4UgO4bfM"
      },
      "source": [
        "labels = labels - 1"
      ],
      "execution_count": 289,
      "outputs": []
    },
    {
      "cell_type": "code",
      "metadata": {
        "id": "swrii3CsrWaB"
      },
      "source": [
        "VALIDATION_SPLIT = 0.3\n",
        "# split the data into a training set and a validation set\n",
        "indices = np.arange(data.shape[0])\n",
        "np.random.shuffle(indices)\n",
        "data = data[indices]\n",
        "labels = labels[indices]\n",
        "nb_validation_samples = int(VALIDATION_SPLIT * data.shape[0])\n",
        "\n",
        "x_train = data[:-nb_validation_samples]\n",
        "y_train = labels[:-nb_validation_samples]\n",
        "x_val = data[-nb_validation_samples:]\n",
        "y_val = labels[-nb_validation_samples:]"
      ],
      "execution_count": 290,
      "outputs": []
    },
    {
      "cell_type": "code",
      "metadata": {
        "colab": {
          "base_uri": "https://localhost:8080/"
        },
        "id": "7KMq_A383yL_",
        "outputId": "53280931-3e20-4cf3-d8b0-8866f81f6a66"
      },
      "source": [
        "y_val"
      ],
      "execution_count": 291,
      "outputs": [
        {
          "output_type": "execute_result",
          "data": {
            "text/plain": [
              "array([4, 4, 4, ..., 4, 4, 2])"
            ]
          },
          "metadata": {},
          "execution_count": 291
        }
      ]
    },
    {
      "cell_type": "code",
      "metadata": {
        "colab": {
          "base_uri": "https://localhost:8080/"
        },
        "id": "YWsAq4Us36Nw",
        "outputId": "46c73e73-31b1-4880-8656-c902d7a4d7f9"
      },
      "source": [
        "y_train.shape"
      ],
      "execution_count": 298,
      "outputs": [
        {
          "output_type": "execute_result",
          "data": {
            "text/plain": [
              "(14462,)"
            ]
          },
          "metadata": {},
          "execution_count": 298
        }
      ]
    },
    {
      "cell_type": "code",
      "metadata": {
        "id": "NDlR5YXn6Cpa"
      },
      "source": [
        "y_train = keras.utils.to_categorical(y_train)\n",
        "y_val = keras.utils.to_categorical(y_val)"
      ],
      "execution_count": 307,
      "outputs": []
    },
    {
      "cell_type": "code",
      "metadata": {
        "colab": {
          "base_uri": "https://localhost:8080/"
        },
        "id": "Xsvk0iIQ6IH_",
        "outputId": "679b0424-92e1-4f4a-a616-b9a407884cac"
      },
      "source": [
        "y_train"
      ],
      "execution_count": 308,
      "outputs": [
        {
          "output_type": "execute_result",
          "data": {
            "text/plain": [
              "array([[0., 0., 0., 0., 1.],\n",
              "       [0., 0., 0., 0., 1.],\n",
              "       [1., 0., 0., 0., 0.],\n",
              "       ...,\n",
              "       [0., 0., 0., 0., 1.],\n",
              "       [0., 0., 0., 0., 1.],\n",
              "       [0., 0., 0., 0., 1.]], dtype=float32)"
            ]
          },
          "metadata": {},
          "execution_count": 308
        }
      ]
    },
    {
      "cell_type": "code",
      "metadata": {
        "id": "VSU3gfPM1uom"
      },
      "source": [
        "EMBEDDING_DIM = 128\n",
        "embedding_matrix = np.zeros((len(word_index) + 1, EMBEDDING_DIM))\n",
        "for word, i in word_index.items():\n",
        "    embedding_vector = embeddings_index.get(word)\n",
        "    if embedding_vector is not None:\n",
        "        # words not found in embedding index will be all-zeros.\n",
        "        embedding_matrix[i] = embedding_vector"
      ],
      "execution_count": 309,
      "outputs": []
    },
    {
      "cell_type": "code",
      "metadata": {
        "colab": {
          "base_uri": "https://localhost:8080/"
        },
        "id": "C1hMFREY22mk",
        "outputId": "087a58de-40b4-4456-e530-52421bdd7136"
      },
      "source": [
        "max_words"
      ],
      "execution_count": 310,
      "outputs": [
        {
          "output_type": "execute_result",
          "data": {
            "text/plain": [
              "200"
            ]
          },
          "metadata": {},
          "execution_count": 310
        }
      ]
    },
    {
      "cell_type": "code",
      "metadata": {
        "id": "RFwk7CZf1--r"
      },
      "source": [
        "num_classes = 5 \n",
        "model = Sequential()\n",
        "model.add(Embedding(input_dim=len(word_index) + 1, output_dim=128, weights=[embedding_matrix], input_length=128, trainable=False))\n",
        "model.add(Conv1D(128, 3))\n",
        "model.add(Activation(\"relu\"))\n",
        "model.add(GlobalMaxPool1D())\n",
        "model.add(Dense(10))\n",
        "model.add(Activation(\"relu\"))\n",
        "model.add(Dense(num_classes))\n",
        "model.add(Activation('softmax'))"
      ],
      "execution_count": 314,
      "outputs": []
    },
    {
      "cell_type": "code",
      "metadata": {
        "colab": {
          "base_uri": "https://localhost:8080/"
        },
        "id": "ltnQKpGA2K-w",
        "outputId": "80537abc-0490-4a6a-9518-fae05a71d48d"
      },
      "source": [
        "model.summary()"
      ],
      "execution_count": 315,
      "outputs": [
        {
          "output_type": "stream",
          "name": "stdout",
          "text": [
            "Model: \"sequential_15\"\n",
            "_________________________________________________________________\n",
            "Layer (type)                 Output Shape              Param #   \n",
            "=================================================================\n",
            "embedding_15 (Embedding)     (None, 128, 128)          1726208   \n",
            "_________________________________________________________________\n",
            "conv1d_11 (Conv1D)           (None, 126, 128)          49280     \n",
            "_________________________________________________________________\n",
            "activation_33 (Activation)   (None, 126, 128)          0         \n",
            "_________________________________________________________________\n",
            "global_max_pooling1d_11 (Glo (None, 128)               0         \n",
            "_________________________________________________________________\n",
            "dense_22 (Dense)             (None, 10)                1290      \n",
            "_________________________________________________________________\n",
            "activation_34 (Activation)   (None, 10)                0         \n",
            "_________________________________________________________________\n",
            "dense_23 (Dense)             (None, 5)                 55        \n",
            "_________________________________________________________________\n",
            "activation_35 (Activation)   (None, 5)                 0         \n",
            "=================================================================\n",
            "Total params: 1,776,833\n",
            "Trainable params: 50,625\n",
            "Non-trainable params: 1,726,208\n",
            "_________________________________________________________________\n"
          ]
        }
      ]
    },
    {
      "cell_type": "code",
      "metadata": {
        "colab": {
          "base_uri": "https://localhost:8080/"
        },
        "id": "K43mxh1I3jv_",
        "outputId": "1585a427-5569-4c96-af38-da093ec417ca"
      },
      "source": [
        "model.compile(loss='categorical_crossentropy',\n",
        "              optimizer='adam',\n",
        "              metrics=['accuracy'])\n",
        "batch_size = 512\n",
        "epochs = 20\n",
        "print_batch_n = 100\n",
        "\n",
        "tensorboard=TensorBoard(log_dir='./logs', write_graph=True, write_images=True)\n",
        "# early_stopping=EarlyStopping(monitor='loss')  \n",
        "\n",
        "\n",
        "history = model.fit(x_train, y_train,\n",
        "                    batch_size=batch_size,\n",
        "                    epochs=epochs,\n",
        "                    verbose=1,\n",
        "                    validation_split=0.1,\n",
        "                    callbacks=[tensorboard, ])#early_stopping])"
      ],
      "execution_count": 316,
      "outputs": [
        {
          "output_type": "stream",
          "name": "stdout",
          "text": [
            "Epoch 1/20\n",
            "WARNING:tensorflow:Model was constructed with shape (None, 128) for input KerasTensor(type_spec=TensorSpec(shape=(None, 128), dtype=tf.float32, name='embedding_15_input'), name='embedding_15_input', description=\"created by layer 'embedding_15_input'\"), but it was called on an input with incompatible shape (None, 40).\n",
            "WARNING:tensorflow:Model was constructed with shape (None, 128) for input KerasTensor(type_spec=TensorSpec(shape=(None, 128), dtype=tf.float32, name='embedding_15_input'), name='embedding_15_input', description=\"created by layer 'embedding_15_input'\"), but it was called on an input with incompatible shape (None, 40).\n",
            "26/26 [==============================] - ETA: 0s - loss: 1.5971 - accuracy: 0.6833WARNING:tensorflow:Model was constructed with shape (None, 128) for input KerasTensor(type_spec=TensorSpec(shape=(None, 128), dtype=tf.float32, name='embedding_15_input'), name='embedding_15_input', description=\"created by layer 'embedding_15_input'\"), but it was called on an input with incompatible shape (None, 40).\n",
            "26/26 [==============================] - 4s 123ms/step - loss: 1.5971 - accuracy: 0.6833 - val_loss: 1.5827 - val_accuracy: 0.7194\n",
            "Epoch 2/20\n",
            "26/26 [==============================] - 3s 113ms/step - loss: 1.5714 - accuracy: 0.7053 - val_loss: 1.5566 - val_accuracy: 0.7194\n",
            "Epoch 3/20\n",
            "26/26 [==============================] - 3s 112ms/step - loss: 1.5463 - accuracy: 0.7053 - val_loss: 1.5311 - val_accuracy: 0.7194\n",
            "Epoch 4/20\n",
            "26/26 [==============================] - 3s 113ms/step - loss: 1.5220 - accuracy: 0.7053 - val_loss: 1.5064 - val_accuracy: 0.7194\n",
            "Epoch 5/20\n",
            "26/26 [==============================] - 3s 112ms/step - loss: 1.4983 - accuracy: 0.7053 - val_loss: 1.4824 - val_accuracy: 0.7194\n",
            "Epoch 6/20\n",
            "26/26 [==============================] - 3s 112ms/step - loss: 1.4752 - accuracy: 0.7053 - val_loss: 1.4590 - val_accuracy: 0.7194\n",
            "Epoch 7/20\n",
            "26/26 [==============================] - 3s 111ms/step - loss: 1.4529 - accuracy: 0.7053 - val_loss: 1.4364 - val_accuracy: 0.7194\n",
            "Epoch 8/20\n",
            "26/26 [==============================] - 3s 112ms/step - loss: 1.4313 - accuracy: 0.7053 - val_loss: 1.4145 - val_accuracy: 0.7194\n",
            "Epoch 9/20\n",
            "26/26 [==============================] - 3s 112ms/step - loss: 1.4103 - accuracy: 0.7053 - val_loss: 1.3933 - val_accuracy: 0.7194\n",
            "Epoch 10/20\n",
            "26/26 [==============================] - 3s 113ms/step - loss: 1.3902 - accuracy: 0.7053 - val_loss: 1.3727 - val_accuracy: 0.7194\n",
            "Epoch 11/20\n",
            "26/26 [==============================] - 3s 114ms/step - loss: 1.3706 - accuracy: 0.7053 - val_loss: 1.3529 - val_accuracy: 0.7194\n",
            "Epoch 12/20\n",
            "26/26 [==============================] - 3s 112ms/step - loss: 1.3517 - accuracy: 0.7053 - val_loss: 1.3338 - val_accuracy: 0.7194\n",
            "Epoch 13/20\n",
            "26/26 [==============================] - 3s 114ms/step - loss: 1.3336 - accuracy: 0.7053 - val_loss: 1.3153 - val_accuracy: 0.7194\n",
            "Epoch 14/20\n",
            "26/26 [==============================] - 3s 111ms/step - loss: 1.3161 - accuracy: 0.7053 - val_loss: 1.2976 - val_accuracy: 0.7194\n",
            "Epoch 15/20\n",
            "26/26 [==============================] - 3s 115ms/step - loss: 1.2994 - accuracy: 0.7053 - val_loss: 1.2806 - val_accuracy: 0.7194\n",
            "Epoch 16/20\n",
            "26/26 [==============================] - 3s 114ms/step - loss: 1.2833 - accuracy: 0.7053 - val_loss: 1.2643 - val_accuracy: 0.7194\n",
            "Epoch 17/20\n",
            "26/26 [==============================] - 3s 114ms/step - loss: 1.2678 - accuracy: 0.7053 - val_loss: 1.2487 - val_accuracy: 0.7194\n",
            "Epoch 18/20\n",
            "26/26 [==============================] - 3s 111ms/step - loss: 1.2530 - accuracy: 0.7053 - val_loss: 1.2336 - val_accuracy: 0.7194\n",
            "Epoch 19/20\n",
            "26/26 [==============================] - 3s 112ms/step - loss: 1.2389 - accuracy: 0.7053 - val_loss: 1.2191 - val_accuracy: 0.7194\n",
            "Epoch 20/20\n",
            "26/26 [==============================] - 3s 113ms/step - loss: 1.2253 - accuracy: 0.7053 - val_loss: 1.2054 - val_accuracy: 0.7194\n"
          ]
        }
      ]
    },
    {
      "cell_type": "code",
      "metadata": {
        "id": "H68ScF743qf5"
      },
      "source": [
        ""
      ],
      "execution_count": null,
      "outputs": []
    }
  ]
}