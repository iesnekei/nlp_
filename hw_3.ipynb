{
  "nbformat": 4,
  "nbformat_minor": 0,
  "metadata": {
    "colab": {
      "name": "hw_3.ipynb",
      "provenance": [],
      "collapsed_sections": []
    },
    "kernelspec": {
      "name": "python3",
      "display_name": "Python 3"
    },
    "language_info": {
      "name": "python"
    }
  },
  "cells": [
    {
      "cell_type": "code",
      "metadata": {
        "id": "cqN1QRY7J8kG"
      },
      "source": [
        "import numpy as np"
      ],
      "execution_count": 14,
      "outputs": []
    },
    {
      "cell_type": "markdown",
      "metadata": {
        "id": "s3zkDpi8KERv"
      },
      "source": [
        "Реализовать переводчик используя ноутбук HW-3-colab(в материалах) / в колабе (можно и локально, но тогда надо поправить его немного)\n",
        "(проще делать в колабе)"
      ]
    },
    {
      "cell_type": "code",
      "metadata": {
        "colab": {
          "base_uri": "https://localhost:8080/"
        },
        "id": "JQ1GYO9eKDXR",
        "outputId": "842be799-9e80-40d1-9673-51cd1bd3fa2a"
      },
      "source": [
        "!sudo pip install -q --upgrade nltk bokeh pandas\n",
        "\n",
        "import nltk\n",
        "nltk.download('punkt')\n",
        "nltk.download('stopwords')"
      ],
      "execution_count": null,
      "outputs": [
        {
          "output_type": "stream",
          "name": "stdout",
          "text": [
            "\u001b[33mWARNING: Running pip as the 'root' user can result in broken permissions and conflicting behaviour with the system package manager. It is recommended to use a virtual environment instead: https://pip.pypa.io/warnings/venv\u001b[0m\n"
          ]
        },
        {
          "output_type": "stream",
          "name": "stderr",
          "text": [
            "[nltk_data] Downloading package punkt to /root/nltk_data...\n",
            "[nltk_data]   Package punkt is already up-to-date!\n",
            "[nltk_data] Downloading package stopwords to /root/nltk_data...\n",
            "[nltk_data]   Package stopwords is already up-to-date!\n"
          ]
        },
        {
          "output_type": "execute_result",
          "data": {
            "text/plain": [
              "True"
            ]
          },
          "metadata": {},
          "execution_count": 4
        }
      ]
    },
    {
      "cell_type": "code",
      "metadata": {
        "id": "75JmAKe4Skjm"
      },
      "source": [
        "import pandas as pd\n",
        "import numpy as np\n",
        "from nltk.tokenize import word_tokenize\n",
        "from gensim.models import Word2Vec\n",
        "from sklearn.manifold import TSNE"
      ],
      "execution_count": null,
      "outputs": []
    },
    {
      "cell_type": "code",
      "metadata": {
        "id": "b6tJ4tZ6Vi4G"
      },
      "source": [
        "# !pip install gensim  --upgrade --ignore-installed"
      ],
      "execution_count": null,
      "outputs": []
    },
    {
      "cell_type": "code",
      "metadata": {
        "id": "NPe9WggnTmgP"
      },
      "source": [
        "# !sudo pip install numpy --upgrade --ignore-installed"
      ],
      "execution_count": null,
      "outputs": []
    },
    {
      "cell_type": "code",
      "metadata": {
        "id": "6eGj_ukuT35T"
      },
      "source": [
        "import re\n",
        "from sklearn.feature_extraction.text import TfidfVectorizer\n",
        "from nltk.corpus import stopwords\n",
        "from string import punctuation"
      ],
      "execution_count": null,
      "outputs": []
    },
    {
      "cell_type": "code",
      "metadata": {
        "colab": {
          "base_uri": "https://localhost:8080/",
          "height": 42
        },
        "id": "9CokiCTDw8nj",
        "outputId": "188c1c6c-df08-4f83-e5f7-0209e74ef4e2"
      },
      "source": [
        "punctuation"
      ],
      "execution_count": 71,
      "outputs": [
        {
          "output_type": "execute_result",
          "data": {
            "application/vnd.google.colaboratory.intrinsic+json": {
              "type": "string"
            },
            "text/plain": [
              "'!\"#$%&\\'()*+,-./:;<=>?@[\\\\]^_`{|}~'"
            ]
          },
          "metadata": {},
          "execution_count": 71
        }
      ]
    },
    {
      "cell_type": "code",
      "metadata": {
        "colab": {
          "base_uri": "https://localhost:8080/"
        },
        "id": "1gVrUinjUPrE",
        "outputId": "1bcd89bf-5558-44ed-c3ce-134a3836977e"
      },
      "source": [
        "!wget -O ukr_rus.train.txt -qq --no-check-certificate \"https://drive.google.com/uc?export=download&id=1vAK0SWXUqei4zTimMvIhH3ufGPsbnC_O\"\n",
        "!wget -O ukr_rus.test.txt -qq --no-check-certificate \"https://drive.google.com/uc?export=download&id=1W9R2F8OeKHXruo2sicZ6FgBJUTJc8Us_\"\n",
        "!wget -O fairy_tale.txt -qq --no-check-certificate \"https://drive.google.com/uc?export=download&id=1sq8zSroFeg_afw-60OmY8RATdu_T1tej\"\n",
        "\n",
        "# Install the PyDrive wrapper & import libraries.\n",
        "# This only needs to be done once per notebook.\n",
        "!pip install -U -q PyDrive\n",
        "from pydrive.auth import GoogleAuth\n",
        "from pydrive.drive import GoogleDrive\n",
        "from google.colab import auth\n",
        "from oauth2client.client import GoogleCredentials\n",
        "\n",
        "# Authenticate and create the PyDrive client.\n",
        "# This only needs to be done once per notebook.\n",
        "auth.authenticate_user()\n",
        "gauth = GoogleAuth()\n",
        "gauth.credentials = GoogleCredentials.get_application_default()\n",
        "drive = GoogleDrive(gauth)\n",
        "\n",
        "downloaded = drive.CreateFile({'id': '1d7OXuil646jUeDS1JNhP9XWlZogv6rbu'})\n",
        "downloaded.GetContentFile('cc.ru.300.vec.zip')\n",
        "\n",
        "downloaded = drive.CreateFile({'id': '1yAqwqgUHtMSfGS99WLGe5unSCyIXfIxi'})\n",
        "downloaded.GetContentFile('cc.uk.300.vec.zip')\n",
        "\n",
        "!unzip cc.ru.300.vec.zip\n",
        "!unzip cc.uk.300.vec.zip"
      ],
      "execution_count": null,
      "outputs": [
        {
          "output_type": "stream",
          "name": "stdout",
          "text": [
            "\u001b[33mWARNING: Running pip as the 'root' user can result in broken permissions and conflicting behaviour with the system package manager. It is recommended to use a virtual environment instead: https://pip.pypa.io/warnings/venv\u001b[0m\n",
            "Archive:  cc.ru.300.vec.zip\n",
            "  inflating: cc.ru.300.vec           \n",
            "Archive:  cc.uk.300.vec.zip\n",
            "  inflating: cc.uk.300.vec           \n"
          ]
        }
      ]
    },
    {
      "cell_type": "code",
      "metadata": {
        "id": "hAYTZWKUU314"
      },
      "source": [
        "from gensim.models import KeyedVectors\n",
        "\n",
        "ru_emb = KeyedVectors.load_word2vec_format(\"cc.ru.300.vec\")\n",
        "uk_emb = KeyedVectors.load_word2vec_format(\"cc.uk.300.vec\")"
      ],
      "execution_count": null,
      "outputs": []
    },
    {
      "cell_type": "code",
      "metadata": {
        "id": "7iHT3RYwXHqO",
        "colab": {
          "base_uri": "https://localhost:8080/"
        },
        "outputId": "2efb40f2-f575-44a3-b4e1-915abe47e27d"
      },
      "source": [
        "ru_emb.most_similar([ru_emb[\"август\"]])"
      ],
      "execution_count": 15,
      "outputs": [
        {
          "output_type": "execute_result",
          "data": {
            "text/plain": [
              "[('август', 1.0000001192092896),\n",
              " ('июль', 0.9383152723312378),\n",
              " ('сентябрь', 0.9240029454231262),\n",
              " ('июнь', 0.9222574830055237),\n",
              " ('октябрь', 0.9095539450645447),\n",
              " ('ноябрь', 0.8930036425590515),\n",
              " ('апрель', 0.8729087114334106),\n",
              " ('декабрь', 0.8652557730674744),\n",
              " ('март', 0.8545795679092407),\n",
              " ('февраль', 0.8401415944099426)]"
            ]
          },
          "metadata": {},
          "execution_count": 15
        }
      ]
    },
    {
      "cell_type": "code",
      "metadata": {
        "id": "2XGa2VOScydi"
      },
      "source": [
        "def load_word_pairs(filename):\n",
        "    uk_ru_pairs = []\n",
        "    uk_vectors = []\n",
        "    ru_vectors = []\n",
        "    with open(filename, \"r\", encoding='utf8') as inpf:\n",
        "        for line in inpf:\n",
        "            uk, ru = line.rstrip().split(\"\\t\")\n",
        "            if uk not in uk_emb or ru not in ru_emb:\n",
        "                continue\n",
        "            uk_ru_pairs.append((uk, ru))\n",
        "            uk_vectors.append(uk_emb[uk])\n",
        "            ru_vectors.append(ru_emb[ru])\n",
        "    return uk_ru_pairs, np.array(uk_vectors), np.array(ru_vectors)\n",
        "\n",
        "\n",
        "uk_ru_train, X_train, Y_train = load_word_pairs(\"ukr_rus.train.txt\")\n",
        "uk_ru_test, X_test, Y_test = load_word_pairs(\"ukr_rus.test.txt\")"
      ],
      "execution_count": 16,
      "outputs": []
    },
    {
      "cell_type": "code",
      "metadata": {
        "colab": {
          "base_uri": "https://localhost:8080/"
        },
        "id": "9AepgNqddXqD",
        "outputId": "1cb7cb5e-2ae0-4411-ba9f-90cc5c3f67c3"
      },
      "source": [
        "uk_ru_train[0]"
      ],
      "execution_count": 20,
      "outputs": [
        {
          "output_type": "execute_result",
          "data": {
            "text/plain": [
              "('iснує', 'существует')"
            ]
          },
          "metadata": {},
          "execution_count": 20
        }
      ]
    },
    {
      "cell_type": "code",
      "metadata": {
        "colab": {
          "base_uri": "https://localhost:8080/"
        },
        "id": "WHk9-Uh2dp50",
        "outputId": "99eec512-8f6f-44f9-ae22-65cf9dee576a"
      },
      "source": [
        "from sklearn.linear_model import LinearRegression\n",
        "mapping = LinearRegression(fit_intercept=False)\n",
        "mapping.fit(X_train, Y_train)"
      ],
      "execution_count": 22,
      "outputs": [
        {
          "output_type": "execute_result",
          "data": {
            "text/plain": [
              "LinearRegression(copy_X=True, fit_intercept=False, n_jobs=None, normalize=False)"
            ]
          },
          "metadata": {},
          "execution_count": 22
        }
      ]
    },
    {
      "cell_type": "code",
      "metadata": {
        "colab": {
          "base_uri": "https://localhost:8080/"
        },
        "id": "Fn1BF6EBefxY",
        "outputId": "efea62bf-7c17-4071-b3b2-e518c2d0faca"
      },
      "source": [
        "august = mapping.predict(uk_emb[\"серпень\"].reshape(1, -1))\n",
        "ru_emb.most_similar(august)"
      ],
      "execution_count": 49,
      "outputs": [
        {
          "output_type": "execute_result",
          "data": {
            "text/plain": [
              "[('апрель', 0.8541284799575806),\n",
              " ('июнь', 0.841120183467865),\n",
              " ('март', 0.8396992683410645),\n",
              " ('сентябрь', 0.835986852645874),\n",
              " ('февраль', 0.8329296112060547),\n",
              " ('октябрь', 0.8311845660209656),\n",
              " ('ноябрь', 0.8278923034667969),\n",
              " ('июль', 0.8234528303146362),\n",
              " ('август', 0.8120500445365906),\n",
              " ('декабрь', 0.8039003610610962)]"
            ]
          },
          "metadata": {},
          "execution_count": 49
        }
      ]
    },
    {
      "cell_type": "markdown",
      "metadata": {
        "id": "08vwuH3Pe0Ui"
      },
      "source": [
        "Должно получиться, что в топе содержатся разные месяцы, но август не первый.\n",
        "\n",
        "Будем мерять percision top-k с k = 1, 5, 10.\n",
        "\n",
        "**Задание** Реализуйте следующую функцию:"
      ]
    },
    {
      "cell_type": "code",
      "metadata": {
        "colab": {
          "base_uri": "https://localhost:8080/"
        },
        "id": "se_ETK9Sg27x",
        "outputId": "e8719cf2-a6d2-46d9-c3fd-4fba680b7ea1"
      },
      "source": [
        "for i,j in enumerate([(\"серпень\", \"август\")]):\n",
        "    print(i, j)"
      ],
      "execution_count": 27,
      "outputs": [
        {
          "output_type": "stream",
          "name": "stdout",
          "text": [
            "0 ('серпень', 'август')\n"
          ]
        }
      ]
    },
    {
      "cell_type": "code",
      "metadata": {
        "colab": {
          "base_uri": "https://localhost:8080/"
        },
        "id": "g11_8baMh00T",
        "outputId": "2a01bf96-fb49-488e-8b25-68409c01dc55"
      },
      "source": [
        "august[0]"
      ],
      "execution_count": 28,
      "outputs": [
        {
          "output_type": "execute_result",
          "data": {
            "text/plain": [
              "array([ 2.30992399e-03, -4.31192592e-02, -4.31668684e-02, -3.46036106e-02,\n",
              "       -1.71317905e-03, -3.56488526e-02, -4.91967425e-03,  1.53636895e-02,\n",
              "        2.78865248e-02,  3.03796530e-02, -3.84306721e-03,  4.43296731e-02,\n",
              "       -1.11899115e-02,  1.83284879e-02,  1.90534815e-02, -2.39052512e-02,\n",
              "        5.20489402e-02,  1.65656209e-03, -7.67123178e-02,  3.39718498e-02,\n",
              "        4.69692200e-02, -5.40798753e-02, -3.05023193e-02, -3.28376889e-03,\n",
              "        4.58409935e-02,  5.08170053e-02,  3.82830761e-03, -3.13807204e-02,\n",
              "        3.07917818e-02, -4.78136539e-03, -2.07080618e-02,  1.61701329e-02,\n",
              "        2.16257926e-02, -8.49262401e-02,  1.41674206e-02, -1.57319270e-02,\n",
              "       -5.04165776e-02, -1.71213359e-01, -3.32581401e-02,  1.82292163e-02,\n",
              "        3.49867158e-03, -4.00891192e-02, -3.91736440e-03, -1.25834830e-02,\n",
              "       -1.46666374e-02,  2.60908389e-03,  3.46445404e-02,  8.69558603e-02,\n",
              "        3.34554538e-03,  5.36744483e-02,  3.27022709e-02,  1.89813040e-02,\n",
              "        2.82948390e-02,  2.61963829e-02, -1.55751938e-02,  1.34627027e-02,\n",
              "       -3.01904120e-02, -6.53153658e-02, -5.74789904e-02, -2.76856814e-02,\n",
              "       -8.03058445e-02,  5.40449768e-02, -1.32928770e-02,  5.55759631e-02,\n",
              "        1.51595734e-02, -8.98660161e-03, -6.55855611e-03, -1.57679245e-02,\n",
              "       -1.05336998e-02,  1.06179472e-02, -4.20150347e-04, -2.34895535e-02,\n",
              "        1.34959174e-02, -8.20852444e-03, -3.36141735e-02, -3.47679947e-03,\n",
              "        8.53568502e-03, -2.51121260e-02, -5.74953705e-02,  8.68716650e-03,\n",
              "        3.46059389e-02,  5.56133837e-02,  4.29202653e-02, -2.60596015e-02,\n",
              "       -4.04387005e-02,  1.71528533e-02, -1.84886456e-02,  6.05812222e-02,\n",
              "        5.65495938e-02,  5.66986911e-02,  4.43410873e-02, -5.41930646e-03,\n",
              "       -1.89490393e-02, -9.37961135e-03, -6.85555264e-02, -2.46623866e-02,\n",
              "       -4.53944728e-02, -2.37263329e-02, -1.28282541e-02,  1.21458638e-02,\n",
              "       -2.24581584e-02, -2.32018437e-02,  1.56501383e-02, -4.21380699e-02,\n",
              "        5.06615862e-02,  5.26064821e-02, -4.85684946e-02,  9.48410947e-03,\n",
              "       -5.47768809e-02,  1.38312075e-02,  1.84986368e-03,  1.31868338e-02,\n",
              "        5.28749973e-02,  3.17606442e-02, -3.37506980e-02, -3.84312123e-04,\n",
              "       -4.51350957e-02, -2.45624203e-02, -1.84011757e-02, -4.82753664e-03,\n",
              "        2.70241257e-02, -5.80017827e-02, -3.20099518e-02, -3.02288420e-02,\n",
              "       -4.79172021e-02,  1.60247646e-03,  6.83397874e-02,  4.34581451e-02,\n",
              "       -9.51616559e-04, -2.75027584e-02, -2.00192221e-02, -2.38911808e-02,\n",
              "        2.86765974e-02,  2.90496927e-02, -2.60409378e-02,  4.52820119e-03,\n",
              "        4.53909859e-02, -3.05999070e-04,  4.35080081e-02,  1.30459201e-02,\n",
              "       -3.21312957e-02, -4.51993942e-02,  5.94645627e-02,  1.51510974e-02,\n",
              "       -5.87174818e-02, -1.26227401e-02,  3.65575850e-02, -7.15033337e-03,\n",
              "       -4.57531102e-02,  2.13173870e-02,  2.86092740e-02, -5.28531894e-03,\n",
              "       -8.13302249e-02,  3.26971151e-02,  4.83832993e-02,  3.24590281e-02,\n",
              "        3.68789881e-02,  1.16638020e-02,  2.76890062e-02, -1.23563111e-02,\n",
              "       -1.56676546e-02, -6.31806068e-03, -3.98342237e-02, -9.69475321e-03,\n",
              "        3.03294901e-02,  1.74477696e-02, -6.12332858e-03,  2.61468925e-02,\n",
              "        2.74505839e-02,  1.99419502e-02,  1.72340497e-03, -9.67529863e-02,\n",
              "        2.99639758e-02, -4.83022481e-02,  1.63337253e-02, -4.76792641e-02,\n",
              "        5.30703366e-03, -4.18977365e-02,  1.51867550e-02, -4.11032774e-02,\n",
              "       -3.48970927e-02, -4.19714302e-02, -4.74080741e-02,  5.59510216e-02,\n",
              "        6.32165670e-02,  7.34170377e-02,  5.22200018e-02, -5.14893159e-02,\n",
              "        2.00715605e-02,  2.31748521e-02, -2.87256725e-02,  1.30387899e-02,\n",
              "        2.45627239e-02,  3.94289531e-02, -2.40258314e-02,  2.62065846e-02,\n",
              "        6.39830530e-02, -1.99277699e-02, -4.04359633e-03, -6.06135651e-03,\n",
              "        1.31836459e-02,  1.45435780e-01,  4.07119654e-03,  1.00561352e-02,\n",
              "        4.58531976e-02, -1.68289039e-02, -1.15032196e-02,  7.80241340e-02,\n",
              "       -6.31532520e-02, -5.84237017e-02, -4.42803614e-02,  8.33243504e-03,\n",
              "       -1.37059391e-03, -9.00792480e-02, -3.59740630e-02,  2.73688305e-02,\n",
              "        4.93123047e-02,  3.06992512e-03, -3.08156423e-02,  4.87034023e-02,\n",
              "       -1.40679367e-02,  3.39574739e-03,  1.09524895e-02,  1.34423058e-02,\n",
              "        3.88365500e-02, -2.83109546e-02, -2.68351845e-02,  1.06907766e-02,\n",
              "       -2.16871351e-02,  3.23179029e-02, -4.67378646e-03,  8.42247084e-02,\n",
              "       -2.88419798e-02, -1.49284936e-02, -1.13771297e-04, -6.56683184e-03,\n",
              "        3.49681526e-02,  9.95689258e-03,  1.40893348e-02, -6.26729652e-02,\n",
              "        6.79082721e-02,  3.09267975e-02,  1.80038251e-02,  4.94252294e-02,\n",
              "       -8.40951875e-02,  3.84809151e-02, -1.37486458e-02, -7.21258819e-02,\n",
              "       -3.70455496e-02, -2.55452693e-02, -4.99131382e-02, -2.99260505e-02,\n",
              "       -1.42858457e-02, -1.30251087e-02,  5.13418205e-02,  3.56678069e-02,\n",
              "       -8.83100182e-03,  1.56261306e-03, -3.91112082e-03, -3.18835266e-02,\n",
              "       -1.57645047e-02, -2.77589615e-02, -7.11881071e-02, -4.53822389e-02,\n",
              "        1.37785509e-01, -1.98759492e-02,  7.22888261e-02,  2.08443161e-02,\n",
              "        3.97678465e-03,  1.26046715e-02,  3.22138369e-02, -3.72129790e-02,\n",
              "        1.59886941e-01, -1.43342586e-02, -5.58700785e-03, -3.29349898e-02,\n",
              "        4.15483490e-02, -2.94260085e-02, -1.31703159e-02,  3.87570374e-02,\n",
              "        6.72007948e-02,  3.46964933e-02,  7.49143772e-04, -1.31845959e-02,\n",
              "        1.25540420e-03,  2.95279920e-02,  1.69299953e-02, -1.58131123e-03,\n",
              "        5.22545446e-03, -2.59498470e-02,  1.75835900e-02, -1.00646773e-03,\n",
              "       -8.06839466e-02, -1.90865081e-02, -3.59308533e-02, -7.45342970e-02,\n",
              "        2.33659185e-02, -4.43070009e-03, -1.59013849e-02, -1.26739349e-02],\n",
              "      dtype=float32)"
            ]
          },
          "metadata": {},
          "execution_count": 28
        }
      ]
    },
    {
      "cell_type": "code",
      "metadata": {
        "id": "e6wZUsEzemfB"
      },
      "source": [
        "def precision(pairs, mapped_vectors, topn=1):\n",
        "    \"\"\"\n",
        "    :args:\n",
        "        pairs = list of right word pairs [(uk_word_0, ru_word_0), ...]\n",
        "        mapped_vectors = list of embeddings after mapping from source embedding space to destination embedding space\n",
        "        topn = the number of nearest neighbours in destination embedding space to choose from\n",
        "    :returns:\n",
        "        precision_val, float number, total number of words for those we can find right translation at top K.\n",
        "    \"\"\"\n",
        "    ru_vectors = mapped_vectors\n",
        "    assert len(pairs) == len(ru_vectors)\n",
        "    num_matches = 0\n",
        "    for i, (_, ru) in enumerate(pairs):\n",
        "        to_translate = ru_emb.most_similar(mapped_vectors[i])\n",
        "        to_translate = to_translate[: topn]\n",
        "        to_translate = [i[0] for i in to_translate]\n",
        "        if ru in to_translate:\n",
        "            num_matches += 1\n",
        "    precision_val = num_matches / len(pairs)\n",
        "    return precision_val"
      ],
      "execution_count": 54,
      "outputs": []
    },
    {
      "cell_type": "code",
      "metadata": {
        "colab": {
          "base_uri": "https://localhost:8080/"
        },
        "id": "fJjUN4Q2q2hD",
        "outputId": "aa8c7b7e-8de1-488c-96d9-7c31caa5f3c6"
      },
      "source": [
        "ru_emb.most_similar(Y_test[0])"
      ],
      "execution_count": 53,
      "outputs": [
        {
          "output_type": "execute_result",
          "data": {
            "text/plain": [
              "[('либо', 1.0000001192092896),\n",
              " ('Либо', 0.7894865870475769),\n",
              " ('или', 0.736264705657959),\n",
              " ('-либо', 0.6304555535316467),\n",
              " ('вовсе', 0.5090411901473999),\n",
              " ('каких-', 0.5040323734283447),\n",
              " ('Или', 0.5023478865623474),\n",
              " ('нет.Если', 0.4999190866947174),\n",
              " ('т.е.', 0.49034079909324646),\n",
              " ('просто-напросто', 0.4899868965148926)]"
            ]
          },
          "metadata": {},
          "execution_count": 53
        }
      ]
    },
    {
      "cell_type": "code",
      "metadata": {
        "id": "kRyR3TUvetIB"
      },
      "source": [
        "assert precision([(\"серпень\", \"август\")], august, topn=5) == 0.0\n",
        "assert precision([(\"серпень\", \"август\")], august, topn=9) == 1.0\n",
        "assert precision([(\"серпень\", \"август\")], august, topn=10) == 1.0"
      ],
      "execution_count": 55,
      "outputs": []
    },
    {
      "cell_type": "code",
      "metadata": {
        "id": "0wNDFya5i1sY"
      },
      "source": [
        "# assert precision(uk_ru_test, X_test) == 0.0\n",
        "assert precision(uk_ru_test, Y_test) == 1.0"
      ],
      "execution_count": 56,
      "outputs": []
    },
    {
      "cell_type": "code",
      "metadata": {
        "id": "lExVn0UuqA9h"
      },
      "source": [
        "precision_top1 = precision(uk_ru_test, mapping.predict(X_test), 1)\n",
        "precision_top5 = precision(uk_ru_test, mapping.predict(X_test), 5)\n",
        "\n",
        "assert precision_top1 >= 0.635\n",
        "assert precision_top5 >= 0.813"
      ],
      "execution_count": 57,
      "outputs": []
    },
    {
      "cell_type": "code",
      "metadata": {
        "id": "GfuFuTEUj1Di"
      },
      "source": [
        "def learn_transform(X_train, Y_train):\n",
        "    \"\"\" \n",
        "    :returns: W* : float matrix[emb_dim x emb_dim] as defined in formulae above\n",
        "    \"\"\"\n",
        "    matrix = np.dot(X_train.T, Y_train)\n",
        "    U, S, V = np.linalg.svd(matrix)\n",
        "    \n",
        "    return np.dot(U, V)"
      ],
      "execution_count": 46,
      "outputs": []
    },
    {
      "cell_type": "code",
      "metadata": {
        "id": "LYg5Ke3Apc6z"
      },
      "source": [
        "W = learn_transform(X_train, Y_train)"
      ],
      "execution_count": 47,
      "outputs": []
    },
    {
      "cell_type": "code",
      "metadata": {
        "colab": {
          "base_uri": "https://localhost:8080/"
        },
        "id": "HUQca_NEpe3Y",
        "outputId": "c256f451-a41d-4795-b033-dcc23159d5ed"
      },
      "source": [
        "ru_emb.most_similar([np.matmul(uk_emb[\"серпень\"], W)])"
      ],
      "execution_count": 48,
      "outputs": [
        {
          "output_type": "execute_result",
          "data": {
            "text/plain": [
              "[('апрель', 0.8237906694412231),\n",
              " ('сентябрь', 0.8049713373184204),\n",
              " ('март', 0.8025653958320618),\n",
              " ('июнь', 0.8021842241287231),\n",
              " ('октябрь', 0.8001735806465149),\n",
              " ('ноябрь', 0.7934483289718628),\n",
              " ('февраль', 0.7914120554924011),\n",
              " ('июль', 0.7908109426498413),\n",
              " ('август', 0.7891016602516174),\n",
              " ('декабрь', 0.7686373591423035)]"
            ]
          },
          "metadata": {},
          "execution_count": 48
        }
      ]
    },
    {
      "cell_type": "code",
      "metadata": {
        "id": "H-Hm4uuep76y"
      },
      "source": [
        "assert precision(uk_ru_test, np.matmul(X_test, W)) >= 0.653\n",
        "assert precision(uk_ru_test, np.matmul(X_test, W), 5) >= 0.824"
      ],
      "execution_count": 58,
      "outputs": []
    },
    {
      "cell_type": "code",
      "metadata": {
        "id": "I9QRZ65msnDZ"
      },
      "source": [
        "# Сингулярные прелести"
      ],
      "execution_count": 59,
      "outputs": []
    },
    {
      "cell_type": "code",
      "metadata": {
        "id": "nYTh-yADqWK4"
      },
      "source": [
        "with open(\"fairy_tale.txt\", \"r\") as f:\n",
        "    uk_sentences = [line.rstrip().lower() for line in f]"
      ],
      "execution_count": 67,
      "outputs": []
    },
    {
      "cell_type": "code",
      "metadata": {
        "colab": {
          "base_uri": "https://localhost:8080/"
        },
        "id": "JBz1SVtetYqj",
        "outputId": "3ac87747-1e01-4194-9258-abe319fb424b"
      },
      "source": [
        "len(uk_sentences)"
      ],
      "execution_count": 68,
      "outputs": [
        {
          "output_type": "execute_result",
          "data": {
            "text/plain": [
              "67"
            ]
          },
          "metadata": {},
          "execution_count": 68
        }
      ]
    },
    {
      "cell_type": "code",
      "metadata": {
        "colab": {
          "base_uri": "https://localhost:8080/"
        },
        "id": "CYlm8ylxtbM7",
        "outputId": "923b87c7-5f87-4460-9ba1-d471f953d75d"
      },
      "source": [
        "uk_sentences[0].split()"
      ],
      "execution_count": 70,
      "outputs": [
        {
          "output_type": "execute_result",
          "data": {
            "text/plain": [
              "['лисичка', '-', 'сестричка', 'і', 'вовк', '-', 'панібрат']"
            ]
          },
          "metadata": {},
          "execution_count": 70
        }
      ]
    },
    {
      "cell_type": "code",
      "metadata": {
        "id": "4tn-wQOTvqQ8"
      },
      "source": [
        "def translate(sentence):\n",
        "    \"\"\"\n",
        "    :args:\n",
        "        sentence - sentence in Ukrainian (str)\n",
        "    :returns:\n",
        "        translation - sentence in Russian (str)\n",
        "\n",
        "    * find ukrainian embedding for each word in sentence\n",
        "    * transform ukrainian embedding vector\n",
        "    * find nearest russian word and replace\n",
        "    \"\"\"\n",
        "    list_ukr = sentence.split()\n",
        "    \n",
        "    rus_list = []\n",
        "    for word in list_ukr:\n",
        "        try:\n",
        "            if int(word):\n",
        "                rus_list.append(word)\n",
        "        except:   \n",
        "            if word in punctuation:\n",
        "                rus_list.append(word)\n",
        "            else:\n",
        "                try:\n",
        "                    sim = ru_emb.most_similar([np.matmul(uk_emb[word], W)])[0][0]\n",
        "                \n",
        "                    rus_list.append(sim)\n",
        "                except:\n",
        "                    rus_list.append(word)\n",
        "\n",
        "    return ' '.join(rus_list)"
      ],
      "execution_count": 84,
      "outputs": []
    },
    {
      "cell_type": "code",
      "metadata": {
        "colab": {
          "base_uri": "https://localhost:8080/",
          "height": 42
        },
        "id": "Th5C4yAixUya",
        "outputId": "f0b0b4e3-0840-451b-fb87-b8d3694c2aeb"
      },
      "source": [
        "translate(\"1 , 3\")"
      ],
      "execution_count": 85,
      "outputs": [
        {
          "output_type": "execute_result",
          "data": {
            "application/vnd.google.colaboratory.intrinsic+json": {
              "type": "string"
            },
            "text/plain": [
              "'1 , 3'"
            ]
          },
          "metadata": {},
          "execution_count": 85
        }
      ]
    },
    {
      "cell_type": "code",
      "metadata": {
        "id": "bmNN56c1xNc7"
      },
      "source": [
        "assert translate(\".\") == \".\"\n",
        "assert translate(\"1 , 3\") == \"1 , 3\"\n",
        "assert translate(\"кіт зловив мишу\") == \"кот поймал мышку\""
      ],
      "execution_count": 86,
      "outputs": []
    },
    {
      "cell_type": "code",
      "metadata": {
        "colab": {
          "base_uri": "https://localhost:8080/"
        },
        "id": "9PduqwQ1xO3I",
        "outputId": "955e64eb-4eff-4ddd-fdab-afa76d58c668"
      },
      "source": [
        "for sentence in uk_sentences:\n",
        "    print(\"src: {}\\ndst: {}\\n\".format(sentence, translate(sentence)))"
      ],
      "execution_count": 87,
      "outputs": [
        {
          "output_type": "stream",
          "name": "stdout",
          "text": [
            "src: лисичка - сестричка і вовк - панібрат\n",
            "dst: лисичка - сестричка и волк - панібрат\n",
            "\n",
            "src: як була собі лисичка , да й пішла раз до однії баби добувать огню ; ввійшла у хату да й каже : \" добрий день тобі , бабусю !\n",
            "dst: как была себе лисичка , че и пошла раз к однії бабы добувать огня ; вошла во избу че и говорит : \" хороший день тебе , бабушку !\n",
            "\n",
            "src: дай мені огня \" .\n",
            "dst: дай мне огня \" .\n",
            "\n",
            "src: а баба тільки що вийняла із печі пирожок із маком , солодкий , да й положила , щоб він прохолов ; а лисичка се і підгледала , да тілько що баба нахилилась у піч , щоб достать огня , то лисичка зараз ухватила пирожок да і драла з хати , да , біжучи , весь мак із його виїла , а туда сміття наклала .\n",
            "dst: а бабка только что вынула со печи пирожок со маком , сладкий , че и согнула , чтобы он прохолов ; а лисичка ой и підгледала , че токмо что бабка качнулась во печь , чтобы достать огня , то лисичка сейчас ухватила пирожок че и деру со хаты , че , пробежать , весь мак со его виїла , а туда мусора наложила .\n",
            "\n",
            "src: прибігла на поле , аж там пасуть хлопці бичків .\n",
            "dst: прибежала по поле , аж там пасут парни бычков .\n",
            "\n",
            "src: вона і каже їм : \" ей , хлопці !\n",
            "dst: она и говорит им : \" ой , парни !\n",
            "\n",
            "src: проміняйте мені бичка - третячка за маковий пирожок \" .\n",
            "dst: проміняйте мне бычка - третячка за маковый пирожок \" .\n",
            "\n",
            "src: тії согласились ; так вона їм говорить : \" смотріть же , ви не їжте зараз сього пирожка , а тоді уже розломите , як я заведу бичка за могилку ; а то ви його ні за що не розломите \" .\n",
            "dst: ишо поглумиться ; так она им говорит : \" смотріть то , мы не ешьте сейчас сего пирожка , а тогда уже розломите , как мной заведу бычка за могилу ; а то мы его ни за что не розломите \" .\n",
            "\n",
            "src: бачите вже - лисичка таки собі була розумна , що хоть кого да обманить .\n",
            "dst: вижу уже - лисичка таки себе была умная , что хоть кого че обманить .\n",
            "\n",
            "src: тії хлопці так і зробили , а лисичка як зайшла за могилу , да зараз у ліс і повернула , щоб на дорозі не догнали ; прийшла у ліс да і зробила собі санки да й їде .\n",
            "dst: ишо парни так и сделали , а лисичка как зашла за могилу , че сейчас во лес и вернула , чтобы по дороге не погнали ; пришла во лес че и сделала себе санки че и едет .\n",
            "\n",
            "src: коли йде вовчик : \" здорова була , лисичко - сестричко ! \"\n",
            "dst: когда идет вовчик : \" здоровая была , лисичко - сестричка ! \"\n",
            "\n",
            "src: - \" здоров , вовчику - братику ! \"\n",
            "dst: - \" здоровье , вовчику - братику ! \"\n",
            "\n",
            "src: - \" де се ти узяла собі і бичка і санки ? \"\n",
            "dst: - \" куда ой ты взяла себе и бычка и санки ? \"\n",
            "\n",
            "src: - \" е !\n",
            "dst: - \" ьн !\n",
            "\n",
            "src: зробила \" .\n",
            "dst: сделала \" .\n",
            "\n",
            "src: - \" підвези ж і мене \" .\n",
            "dst: - \" підвези же и меня \" .\n",
            "\n",
            "src: - \" е , вовчику !\n",
            "dst: - \" ьн , вовчику !\n",
            "\n",
            "src: не можна \" .\n",
            "dst: не можно \" .\n",
            "\n",
            "src: - \" мені хоть одну ніжку \" .\n",
            "dst: - \" мне хоть одну ножку \" .\n",
            "\n",
            "src: - \" одну можна \" .\n",
            "dst: - \" одну можно \" .\n",
            "\n",
            "src: він і положив , да од'їхавши немного і просить , щоби іще одну положить .\n",
            "dst: он и положил , че од'їхавши конешно и просит , чтобы еще одну возмет .\n",
            "\n",
            "src: \" не можна , братику !\n",
            "dst: \" не можно , братику !\n",
            "\n",
            "src: боюсь , щоб ти саней не зламав \" .\n",
            "dst: боюсь , чтобы ты саней не сломал \" .\n",
            "\n",
            "src: - \" ні , сестричко , не бійся ! \"\n",
            "dst: - \" ни , сестричка , не бойся ! \"\n",
            "\n",
            "src: - да і положив другую ніжку .\n",
            "dst: - че и положил одну ножку .\n",
            "\n",
            "src: тілько що од'їхали , як щось і тріснуло .\n",
            "dst: токмо что од'їхали , как что-то и треснуло .\n",
            "\n",
            "src: \" бачиш , вовчику , уже і ламаєш санки \" .\n",
            "dst: \" видишь , вовчику , уже и ламаєш санки \" .\n",
            "\n",
            "src: - \" ні , лисичко !\n",
            "dst: - \" ни , лисичко !\n",
            "\n",
            "src: се у мене був орішок , так я розкусив \" .\n",
            "dst: ой во меня был орішок , так мной розкусив \" .\n",
            "\n",
            "src: да просить оп'ять , щоб і третю ногу положить ; лисичка і ту пустила , да тілько що оп'ять од'їхали , аж щось уже дужче тріснуло .\n",
            "dst: че просит оп'ять , чтобы и третью ногу возмет ; лисичка и ту пустила , че токмо что оп'ять од'їхали , аж что-то уже сильней треснуло .\n",
            "\n",
            "src: лисичка закричала : \" ох , лишечко !\n",
            "dst: лисичка закричала : \" ой , лишечко !\n",
            "\n",
            "src: ти ж мені , братику , зовсім зламаєш санки \" .\n",
            "dst: ты же мне , братику , совсем зламаєш санки \" .\n",
            "\n",
            "src: - \" ні , лисичко , се я орішок розкусив \" .\n",
            "dst: - \" ни , лисичко , ой мной орішок розкусив \" .\n",
            "\n",
            "src: - \" дай же і мені , бачиш який , що сам їж , а мені і не даєш \" .\n",
            "dst: - \" дай то и мне , видишь который , что сам ел , а мне и не даешь \" .\n",
            "\n",
            "src: - \" нема уже більше , а я б дав \" .\n",
            "dst: - \" нету уже больше , а мной бы дал \" .\n",
            "\n",
            "src: да і просить оп'ять , щоб пустила положить і послідню ногу .\n",
            "dst: че и просит оп'ять , чтобы пустила возмет и послідню ногу .\n",
            "\n",
            "src: лисичка і согласилась .\n",
            "dst: лисичка и согласилась .\n",
            "\n",
            "src: так він тілько що положив ногу , як санки зовсім розламались .\n",
            "dst: так он токмо что положил ногу , как санки совсем розламались .\n",
            "\n",
            "src: тоді вже лисичка так на його розсердилась , що і сама не знала щоб робила !\n",
            "dst: тогда уже лисичка так по его розсердилась , что и сама не знала чтобы делала !\n",
            "\n",
            "src: а як отошло серце , вона і каже : \" іди ж , ледащо !\n",
            "dst: а как отошло сердце , она и говорит : \" иди же , лодырь !\n",
            "\n",
            "src: да нарубай дерева , щоб нам оп'ять ізробить санки ; тільки рубавши кажи так : \" рубайся ж , дерево , і криве і пряме \" .\n",
            "dst: че нарубай деревья , чтобы нам оп'ять ізробить санки ; только рубавши говори так : \" рубайся же , дерево , и кривое и прямое \" .\n",
            "\n",
            "src: він і пішов да й каже усе : \" рубайся ж , дерево , усе пряме да пряме ! \"\n",
            "dst: он и пошел че и говорит всё : \" рубайся же , дерево , всё прямое че прямое ! \"\n",
            "\n",
            "src: нарубавши і приносить ; лисичка увидала , що дерево не таке , як їй нужно , оп'ять розсердилась .\n",
            "dst: нарубавши и приносит ; лисичка увидала , что дерево не такое , как им надо , оп'ять розсердилась .\n",
            "\n",
            "src: \" ти , - говорить , - не казав , видно , так , як я тобі веліла ! \"\n",
            "dst: \" ты , - говорит , - не говорил , видно , так , как мной тебе велела ! \"\n",
            "\n",
            "src: - \" ні , я усе теє казав , що ти мені казала \" .\n",
            "dst: - \" ни , мной всё Эх говорил , что ты мне говорила \" .\n",
            "\n",
            "src: - \" да чомусь не таке рубалось ?\n",
            "dst: - \" че почему-то не такое рубалось ?\n",
            "\n",
            "src: ну , сиди ж ти тут , а я сама піду нарубаю \" , - да і пішла у ліс .\n",
            "dst: ну , сиди же ты здесь , а мной сама пойду нарубаю \" , - че и пошла во лес .\n",
            "\n",
            "src: а вовк дивиться , що він сам остався ; узяв да проїв у бичка дірку да виїв усе в середині , а напускав туда горобців да ще соломою заткнув , поставив бичка , а сам і втік .\n",
            "dst: а волк смотрит , что он сам остался ; взял че проїв во бычка дыру че виїв всё во середине , а напускав туда воробьёв че ещe соломой заткнул , поставил бычка , а сам и сбежал .\n",
            "\n",
            "src: аж лисичка приходить , зробила санки да й сіла і стала поганять : \" гей , бичок - третячок ! \"\n",
            "dst: аж лисичка приходит , сделала санки че и присела и стала поганять : \" гей , бычок - третячок ! \"\n",
            "\n",
            "src: тілько він не везе .\n",
            "dst: токмо он не увозит .\n",
            "\n",
            "src: от вона встала , щоб поправить : може , що не так запряжено ; да , не хотячи , одоткнула солому , а оттуда так і сипнули горобці летіти .\n",
            "dst: из она встала , чтобы поправит : может , что не так запряжено ; че , не вздумал , одоткнула солому , а туды так и сипнули воробьи лететь .\n",
            "\n",
            "src: вона уже тоді побачила , що бичок неживий ; покинула його да й пішла .\n",
            "dst: она уже тогда увидела , что бычок неживой ; покинула его че и пошла .\n",
            "\n",
            "src: легла на дорозі , аж дивиться - їде мужик з рибою ; вона і притворилась , що здохла .\n",
            "dst: легла по дороге , аж смотрит - едет мужик со рыбой ; она и притворилась , что сдохла .\n",
            "\n",
            "src: от мужик і говорить : \" возьму я оцю лисицю , обдеру да хоть шапку собі зошью \" .\n",
            "dst: из мужик и говорит : \" возьму мной ихнюю лисицу , обдеру че хоть шапку себе зошью \" .\n",
            "\n",
            "src: узяв да і положив ззаді у воза .\n",
            "dst: взял че и положил взади во телега .\n",
            "\n",
            "src: вона замітила , що мужик не смотрить , стала ногами викидувать рибу з воза , а когда побачила , що навикидала уже багато , тоди потихесеньку і сама злізла ; сіла біля риби да і їсть собі , - коли біжить оп'ять той самий вовчик .\n",
            "dst: она заметила , что мужик не смотрить , стала ногами викидувать рыбу со телега , а .когда увидела , что навикидала уже много , тоды потихесеньку и сама слезла ; присела возле рыбы че и ест себе , - когда бежит оп'ять тот самый вовчик .\n",
            "\n",
            "src: побачивши , що вона їсть рибу , прибіг до їй да й каже : \" здорово була , лисичко - сестричко !\n",
            "dst: увидев , что она ест рыбу , прибежал к им че и говорит : \" здорово была , лисичко - сестричка !\n",
            "\n",
            "src: де се ти набрала стільки риби ? \"\n",
            "dst: куда ой ты набрала столько рыбы ? \"\n",
            "\n",
            "src: вона каже : \" наловила , вовчику - братику ! \"\n",
            "dst: она говорит : \" наловила , вовчику - братику ! \"\n",
            "\n",
            "src: а собі на думці : \" подожди , і я зроблю з тобою таку штуку , як і ти зо мною \" .\n",
            "dst: а себе по мнении : \" подожди , и мной сделаю со тобой такую штуку , как и ты За мной \" .\n",
            "\n",
            "src: - \" як же ти ловила ? \"\n",
            "dst: - \" как то ты ловила ? \"\n",
            "\n",
            "src: - \" так , вовчику , уложила хвостик в ополонку , вожу тихенько да й кажу ; ловися , рибка , мала і велика !\n",
            "dst: - \" так , вовчику , уложила хвостик во прорубь , вожу тихонько че и говорю ; ловися , рыбка , имела и большая !\n",
            "\n",
            "src: коли хочеш , то і ти піди , налови собі \" .\n",
            "dst: когда хочешь , то и ты пойди , налови себе \" .\n",
            "\n",
            "src: він побіг да зробив так , як казала лисичка .\n",
            "dst: он побежал че сделал так , как говорила лисичка .\n",
            "\n",
            "src: а лисичка стала за деревом да й дивиться ; коли у вовчика зовсім хвостик примерз , вона тоді побігла в село да й кричить : \" ідіть , люди , вбивайте вовка ! \"\n",
            "dst: а лисичка стала за деревом че и смотрит ; когда во вовчика совсем хвостик примерз , она тогда побежала во село че и кричит : \" идите , люди , убивайте волка ! \"\n",
            "\n",
            "src: люди набігли з кольями да і убили його .\n",
            "dst: люди полезли со кольями че и убили его .\n",
            "\n",
            "src: \n",
            "dst: \n",
            "\n"
          ]
        }
      ]
    },
    {
      "cell_type": "code",
      "metadata": {
        "id": "c2E-zga-yRhA"
      },
      "source": [
        ""
      ],
      "execution_count": null,
      "outputs": []
    }
  ]
}