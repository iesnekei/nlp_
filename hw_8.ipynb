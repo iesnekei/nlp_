{
  "nbformat": 4,
  "nbformat_minor": 0,
  "metadata": {
    "colab": {
      "name": "hw_8",
      "provenance": []
    },
    "kernelspec": {
      "name": "python3",
      "display_name": "Python 3"
    },
    "language_info": {
      "name": "python"
    },
    "accelerator": "GPU"
  },
  "cells": [
    {
      "cell_type": "code",
      "metadata": {
        "colab": {
          "base_uri": "https://localhost:8080/"
        },
        "id": "FLa7mZ-N341D",
        "outputId": "e11b7036-ee1d-47cc-ebfc-53010fa83382"
      },
      "source": [
        "!pip install stop_words\n",
        "!pip install pymorphy2"
      ],
      "execution_count": 3,
      "outputs": [
        {
          "output_type": "stream",
          "name": "stdout",
          "text": [
            "Requirement already satisfied: stop_words in /usr/local/lib/python3.7/dist-packages (2018.7.23)\n",
            "Requirement already satisfied: pymorphy2 in /usr/local/lib/python3.7/dist-packages (0.9.1)\n",
            "Requirement already satisfied: dawg-python>=0.7.1 in /usr/local/lib/python3.7/dist-packages (from pymorphy2) (0.7.2)\n",
            "Requirement already satisfied: pymorphy2-dicts-ru<3.0,>=2.4 in /usr/local/lib/python3.7/dist-packages (from pymorphy2) (2.4.417127.4579844)\n",
            "Requirement already satisfied: docopt>=0.6 in /usr/local/lib/python3.7/dist-packages (from pymorphy2) (0.6.2)\n"
          ]
        }
      ]
    },
    {
      "cell_type": "code",
      "metadata": {
        "id": "VlJ-cbmW4AX_"
      },
      "source": [
        "import pandas as pd\n",
        "from string import punctuation\n",
        "from stop_words import get_stop_words\n",
        "from pymorphy2 import MorphAnalyzer\n",
        "import re\n",
        "import string\n",
        "import numpy as np\n",
        "import keras\n",
        "from keras.models import Sequential, Model\n",
        "from keras.layers import Dense, Dropout, Activation, Input, Embedding, Conv1D, GlobalMaxPool1D, SimpleRNN, LSTM, GRU, Masking\n",
        "from keras.preprocessing.text import Tokenizer\n",
        "from keras.preprocessing.sequence import pad_sequences\n",
        "from keras.callbacks import TensorBoard \n",
        "from tensorflow.keras.metrics import categorical_crossentropy\n",
        "from keras.callbacks import EarlyStopping\n",
        "import matplotlib.pyplot as plt"
      ],
      "execution_count": 4,
      "outputs": []
    },
    {
      "cell_type": "code",
      "metadata": {
        "colab": {
          "base_uri": "https://localhost:8080/"
        },
        "id": "hTBddt885Stt",
        "outputId": "fa990fbb-ab18-4d05-e0ad-4491fd216134"
      },
      "source": [
        "!unzip data.zip"
      ],
      "execution_count": 5,
      "outputs": [
        {
          "output_type": "stream",
          "name": "stdout",
          "text": [
            "Archive:  data.zip\n",
            "replace __MACOSX/._data? [y]es, [n]o, [A]ll, [N]one, [r]ename: n\n",
            "replace data/val.csv? [y]es, [n]o, [A]ll, [N]one, [r]ename: n\n",
            "replace __MACOSX/data/._val.csv? [y]es, [n]o, [A]ll, [N]one, [r]ename: N\n"
          ]
        }
      ]
    },
    {
      "cell_type": "code",
      "metadata": {
        "id": "ezTgx9om5X11"
      },
      "source": [
        "df_train = pd.read_csv(\"data/train.csv\")\n",
        "df_test = pd.read_csv(\"data/test.csv\")\n",
        "df_val = pd.read_csv(\"data/val.csv\")"
      ],
      "execution_count": 6,
      "outputs": []
    },
    {
      "cell_type": "code",
      "metadata": {
        "colab": {
          "base_uri": "https://localhost:8080/",
          "height": 359
        },
        "id": "i5Ko9FJjWMbn",
        "outputId": "53916eb0-4c5a-42c8-9262-019f221d26aa"
      },
      "source": [
        "df_test.head(10)"
      ],
      "execution_count": 7,
      "outputs": [
        {
          "output_type": "execute_result",
          "data": {
            "text/html": [
              "<div>\n",
              "<style scoped>\n",
              "    .dataframe tbody tr th:only-of-type {\n",
              "        vertical-align: middle;\n",
              "    }\n",
              "\n",
              "    .dataframe tbody tr th {\n",
              "        vertical-align: top;\n",
              "    }\n",
              "\n",
              "    .dataframe thead th {\n",
              "        text-align: right;\n",
              "    }\n",
              "</style>\n",
              "<table border=\"1\" class=\"dataframe\">\n",
              "  <thead>\n",
              "    <tr style=\"text-align: right;\">\n",
              "      <th></th>\n",
              "      <th>id</th>\n",
              "      <th>text</th>\n",
              "    </tr>\n",
              "  </thead>\n",
              "  <tbody>\n",
              "    <tr>\n",
              "      <th>0</th>\n",
              "      <td>204150</td>\n",
              "      <td>Тектоника и рельеф-самое ужасное в мире мучение(</td>\n",
              "    </tr>\n",
              "    <tr>\n",
              "      <th>1</th>\n",
              "      <td>204151</td>\n",
              "      <td>Ходили запускать шар желаний, но у нас не полу...</td>\n",
              "    </tr>\n",
              "    <tr>\n",
              "      <th>2</th>\n",
              "      <td>204152</td>\n",
              "      <td>Хочу лето только ради того, что бы направить н...</td>\n",
              "    </tr>\n",
              "    <tr>\n",
              "      <th>3</th>\n",
              "      <td>204153</td>\n",
              "      <td>RT @RonyLiss: @colf_ne блин((\\nа я шипперила Ф...</td>\n",
              "    </tr>\n",
              "    <tr>\n",
              "      <th>4</th>\n",
              "      <td>204154</td>\n",
              "      <td>RT @anna_romt: @ZADROT_PO_IGRAM блин,каждое во...</td>\n",
              "    </tr>\n",
              "    <tr>\n",
              "      <th>5</th>\n",
              "      <td>204155</td>\n",
              "      <td>в Питере какой то Сайлент Хилл) http://t.co/gB...</td>\n",
              "    </tr>\n",
              "    <tr>\n",
              "      <th>6</th>\n",
              "      <td>204156</td>\n",
              "      <td>@Brokerrr2 ухты какой молодец)) ахаха) а ты со...</td>\n",
              "    </tr>\n",
              "    <tr>\n",
              "      <th>7</th>\n",
              "      <td>204157</td>\n",
              "      <td>Мальчишки-кадеты, осталось детство где-то.))\\n...</td>\n",
              "    </tr>\n",
              "    <tr>\n",
              "      <th>8</th>\n",
              "      <td>204158</td>\n",
              "      <td>RT @MrFarneo: Было жутко больно :-/ http://t.c...</td>\n",
              "    </tr>\n",
              "    <tr>\n",
              "      <th>9</th>\n",
              "      <td>204159</td>\n",
              "      <td>Ромка что то раздобрел и купилмне киндер) Стра...</td>\n",
              "    </tr>\n",
              "  </tbody>\n",
              "</table>\n",
              "</div>"
            ],
            "text/plain": [
              "       id                                               text\n",
              "0  204150   Тектоника и рельеф-самое ужасное в мире мучение(\n",
              "1  204151  Ходили запускать шар желаний, но у нас не полу...\n",
              "2  204152  Хочу лето только ради того, что бы направить н...\n",
              "3  204153  RT @RonyLiss: @colf_ne блин((\\nа я шипперила Ф...\n",
              "4  204154  RT @anna_romt: @ZADROT_PO_IGRAM блин,каждое во...\n",
              "5  204155  в Питере какой то Сайлент Хилл) http://t.co/gB...\n",
              "6  204156  @Brokerrr2 ухты какой молодец)) ахаха) а ты со...\n",
              "7  204157  Мальчишки-кадеты, осталось детство где-то.))\\n...\n",
              "8  204158  RT @MrFarneo: Было жутко больно :-/ http://t.c...\n",
              "9  204159  Ромка что то раздобрел и купилмне киндер) Стра..."
            ]
          },
          "metadata": {},
          "execution_count": 7
        }
      ]
    },
    {
      "cell_type": "code",
      "metadata": {
        "colab": {
          "base_uri": "https://localhost:8080/"
        },
        "id": "AzI8SvVYWUwA",
        "outputId": "53478685-0c19-47f9-9886-a99132ba91b0"
      },
      "source": [
        "df_train['class'].value_counts()"
      ],
      "execution_count": 8,
      "outputs": [
        {
          "output_type": "execute_result",
          "data": {
            "text/plain": [
              "1    92063\n",
              "0    89404\n",
              "Name: class, dtype: int64"
            ]
          },
          "metadata": {},
          "execution_count": 8
        }
      ]
    },
    {
      "cell_type": "code",
      "metadata": {
        "id": "OS2lTTAW4L5K"
      },
      "source": [
        "def text_cleaning(text):\n",
        "    text = ''.join([k for k in text if k not in string.punctuation])\n",
        "    text = re.sub('[^A-Za-z0-9]+', ' ', str(text).lower()).strip()\n",
        "    text = re.sub(' +', ' ', text)\n",
        "    emoji_pattern = re.compile(\"[\"\n",
        "                               u\"\\U0001F600-\\U0001F64F\"  # emoticons\n",
        "                               u\"\\U0001F300-\\U0001F5FF\"  # symbols & pictographs\n",
        "                               u\"\\U0001F680-\\U0001F6FF\"  # transport & map symbols\n",
        "                               u\"\\U0001F1E0-\\U0001F1FF\"  # flags (iOS)\n",
        "                               \"]+\", flags=re.UNICODE)\n",
        "    text = emoji_pattern.sub(r'', text)\n",
        "    return text"
      ],
      "execution_count": 9,
      "outputs": []
    },
    {
      "cell_type": "code",
      "metadata": {
        "id": "nV6if5cn5Gvm"
      },
      "source": [
        "sw = set(get_stop_words(\"ru\"))\n",
        "exclude = set(punctuation)\n",
        "morpher = MorphAnalyzer()\n",
        "\n",
        "def preprocess_text(txt):\n",
        "    txt = str(txt)\n",
        "    txt = \"\".join(c for c in txt if c not in exclude)\n",
        "    txt = txt.lower()\n",
        "    txt = re.sub(\"\\sне\", \"не\", txt)\n",
        "    txt = [morpher.parse(word)[0].normal_form for word in txt.split() if word not in sw]\n",
        "    return \" \".join(txt)\n"
      ],
      "execution_count": 10,
      "outputs": []
    },
    {
      "cell_type": "code",
      "metadata": {
        "id": "TuuxDI816YTs"
      },
      "source": [
        "hw_train = df_train\n",
        "hw_val = df_val\n",
        "hw_test = df_test\n",
        "my_train = df_train\n",
        "my_val = df_val\n",
        "my_test = df_test"
      ],
      "execution_count": 11,
      "outputs": []
    },
    {
      "cell_type": "code",
      "metadata": {
        "id": "_VkeV_EP5Qow"
      },
      "source": [
        "hw_train['text'] = df_train['text'].apply(preprocess_text)\n",
        "hw_val['text'] = df_val['text'].apply(preprocess_text)\n",
        "hw_test['text'] = df_test['text'].apply(preprocess_text)"
      ],
      "execution_count": 12,
      "outputs": []
    },
    {
      "cell_type": "code",
      "metadata": {
        "id": "FMLF-sNC6rdl"
      },
      "source": [
        "my_train['text'] = df_train['text'].apply(text_cleaning)\n",
        "my_val['text'] = df_val['text'].apply(text_cleaning)\n",
        "my_test['text'] = df_test['text'].apply(text_cleaning)"
      ],
      "execution_count": 13,
      "outputs": []
    },
    {
      "cell_type": "markdown",
      "metadata": {
        "id": "EcAjE7KH79hp"
      },
      "source": [
        "Part with hw"
      ]
    },
    {
      "cell_type": "code",
      "metadata": {
        "id": "6Cu7tRdq7sTI"
      },
      "source": [
        "text_corpus_train = hw_train['text'].values\n",
        "text_corpus_valid = hw_val['text'].values\n",
        "text_corpus_test = hw_test['text'].values"
      ],
      "execution_count": 14,
      "outputs": []
    },
    {
      "cell_type": "code",
      "metadata": {
        "id": "M-uo6v4z8HIh"
      },
      "source": [
        "tokenizer = Tokenizer(num_words=10000, \n",
        "                     filters='#$%&()*+-<=>@[\\\\]^_`{|}~\\t\\n',\n",
        "                     lower = False, split = ' ')\n",
        "tokenizer.fit_on_texts(text_corpus_train)\n",
        "\n",
        "sequences_train = tokenizer.texts_to_sequences(text_corpus_train)\n",
        "sequences_val = tokenizer.texts_to_sequences(text_corpus_valid)\n",
        "sequences_test = tokenizer.texts_to_sequences(text_corpus_test)\n",
        "\n",
        "word_count = len(tokenizer.index_word) + 1\n",
        "training_length = max([len(i.split()) for i in text_corpus_train])\n",
        "\n",
        "X_train = pad_sequences(sequences_train, maxlen=training_length)\n",
        "X_valid = pad_sequences(sequences_val, maxlen=training_length)"
      ],
      "execution_count": 15,
      "outputs": []
    },
    {
      "cell_type": "code",
      "metadata": {
        "id": "ouMmCGaY9rro"
      },
      "source": [
        "y_train = hw_train['class'].values\n",
        "y_val = hw_val['class'].values"
      ],
      "execution_count": 16,
      "outputs": []
    },
    {
      "cell_type": "markdown",
      "metadata": {
        "id": "3mceo2bb94nz"
      },
      "source": [
        "# CNN model for sentimental analyzis"
      ]
    },
    {
      "cell_type": "code",
      "metadata": {
        "colab": {
          "base_uri": "https://localhost:8080/"
        },
        "id": "kTixw4kJ9xli",
        "outputId": "bd99c582-9e16-430b-c454-df5bba71463c"
      },
      "source": [
        "X_train.shape"
      ],
      "execution_count": 17,
      "outputs": [
        {
          "output_type": "execute_result",
          "data": {
            "text/plain": [
              "(181467, 21)"
            ]
          },
          "metadata": {},
          "execution_count": 17
        }
      ]
    },
    {
      "cell_type": "code",
      "metadata": {
        "colab": {
          "base_uri": "https://localhost:8080/"
        },
        "id": "WBeVazuo-oOh",
        "outputId": "24e0911f-bd20-40a8-9221-9d49122cbf4e"
      },
      "source": [
        "cnn_model = Sequential()\n",
        "\n",
        "cnn_model.add(\n",
        "    Embedding(input_dim=word_count,\n",
        "              input_length=training_length,\n",
        "              output_dim=30,\n",
        "              trainable=True,\n",
        "              mask_zero=True))\n",
        "cnn_model.add(Masking(mask_value=0.0))\n",
        "cnn_model.add(Conv1D(128, 4))\n",
        "cnn_model.add(Activation(\"relu\"))\n",
        "cnn_model.add(Conv1D(128, 4))\n",
        "cnn_model.add(Activation(\"relu\"))\n",
        "cnn_model.add(GlobalMaxPool1D())\n",
        "cnn_model.add(Dense(64, activation='relu'))\n",
        "cnn_model.add(Dropout(0.5))\n",
        "cnn_model.add(Dense(1, activation='sigmoid'))\n",
        "\n",
        "cnn_model.compile(\n",
        "    optimizer='adam', loss='binary_crossentropy', metrics=['accuracy'])\n",
        "cnn_model.summary()"
      ],
      "execution_count": 18,
      "outputs": [
        {
          "output_type": "stream",
          "name": "stdout",
          "text": [
            "Model: \"sequential\"\n",
            "_________________________________________________________________\n",
            "Layer (type)                 Output Shape              Param #   \n",
            "=================================================================\n",
            "embedding (Embedding)        (None, 21, 30)            3058320   \n",
            "_________________________________________________________________\n",
            "masking (Masking)            (None, 21, 30)            0         \n",
            "_________________________________________________________________\n",
            "conv1d (Conv1D)              (None, 18, 128)           15488     \n",
            "_________________________________________________________________\n",
            "activation (Activation)      (None, 18, 128)           0         \n",
            "_________________________________________________________________\n",
            "conv1d_1 (Conv1D)            (None, 15, 128)           65664     \n",
            "_________________________________________________________________\n",
            "activation_1 (Activation)    (None, 15, 128)           0         \n",
            "_________________________________________________________________\n",
            "global_max_pooling1d (Global (None, 128)               0         \n",
            "_________________________________________________________________\n",
            "dense (Dense)                (None, 64)                8256      \n",
            "_________________________________________________________________\n",
            "dropout (Dropout)            (None, 64)                0         \n",
            "_________________________________________________________________\n",
            "dense_1 (Dense)              (None, 1)                 65        \n",
            "=================================================================\n",
            "Total params: 3,147,793\n",
            "Trainable params: 3,147,793\n",
            "Non-trainable params: 0\n",
            "_________________________________________________________________\n"
          ]
        }
      ]
    },
    {
      "cell_type": "code",
      "metadata": {
        "colab": {
          "base_uri": "https://localhost:8080/"
        },
        "id": "7yR2-ha6Cq1v",
        "outputId": "17d4fe79-a744-4366-8a1b-a86d661fd833"
      },
      "source": [
        "early_stopping=EarlyStopping(monitor='accuracy')  \n",
        "\n",
        "\n",
        "history = cnn_model.fit(X_train, y_train,\n",
        "                    batch_size=512,\n",
        "                    epochs=10,\n",
        "                    verbose=1,\n",
        "                    validation_split=0.1,\n",
        "                   )# callbacks=[early_stopping])"
      ],
      "execution_count": 19,
      "outputs": [
        {
          "output_type": "stream",
          "name": "stdout",
          "text": [
            "Epoch 1/10\n",
            "319/319 [==============================] - 20s 7ms/step - loss: 0.6307 - accuracy: 0.6058 - val_loss: 0.6074 - val_accuracy: 0.6233\n",
            "Epoch 2/10\n",
            "319/319 [==============================] - 2s 6ms/step - loss: 0.5876 - accuracy: 0.6427 - val_loss: 0.6055 - val_accuracy: 0.6300\n",
            "Epoch 3/10\n",
            "319/319 [==============================] - 2s 6ms/step - loss: 0.5702 - accuracy: 0.6516 - val_loss: 0.6273 - val_accuracy: 0.6281\n",
            "Epoch 4/10\n",
            "319/319 [==============================] - 2s 6ms/step - loss: 0.5603 - accuracy: 0.6565 - val_loss: 0.6341 - val_accuracy: 0.6305\n",
            "Epoch 5/10\n",
            "319/319 [==============================] - 2s 7ms/step - loss: 0.5518 - accuracy: 0.6608 - val_loss: 0.6608 - val_accuracy: 0.6283\n",
            "Epoch 6/10\n",
            "319/319 [==============================] - 2s 7ms/step - loss: 0.5446 - accuracy: 0.6648 - val_loss: 0.6822 - val_accuracy: 0.6272\n",
            "Epoch 7/10\n",
            "319/319 [==============================] - 2s 6ms/step - loss: 0.5385 - accuracy: 0.6675 - val_loss: 0.7132 - val_accuracy: 0.6276\n",
            "Epoch 8/10\n",
            "319/319 [==============================] - 2s 6ms/step - loss: 0.5339 - accuracy: 0.6692 - val_loss: 0.7410 - val_accuracy: 0.6273\n",
            "Epoch 9/10\n",
            "319/319 [==============================] - 2s 6ms/step - loss: 0.5299 - accuracy: 0.6713 - val_loss: 0.7451 - val_accuracy: 0.6287\n",
            "Epoch 10/10\n",
            "319/319 [==============================] - 2s 7ms/step - loss: 0.5270 - accuracy: 0.6728 - val_loss: 0.8012 - val_accuracy: 0.6280\n"
          ]
        }
      ]
    },
    {
      "cell_type": "code",
      "metadata": {
        "colab": {
          "base_uri": "https://localhost:8080/"
        },
        "id": "2TGbfamdEZhT",
        "outputId": "8038bbb0-a8eb-4e2b-b8cf-8aa75b9b5506"
      },
      "source": [
        "score = cnn_model.evaluate(X_valid, y_val, batch_size=512, verbose=1)\n",
        "print('\\n')\n",
        "print('Test score:', score[0])\n",
        "print('Test accuracy:', score[1])"
      ],
      "execution_count": 20,
      "outputs": [
        {
          "output_type": "stream",
          "name": "stdout",
          "text": [
            "45/45 [==============================] - 0s 3ms/step - loss: 0.7623 - accuracy: 0.6202\n",
            "\n",
            "\n",
            "Test score: 0.7623131275177002\n",
            "Test accuracy: 0.6202001571655273\n"
          ]
        }
      ]
    },
    {
      "cell_type": "code",
      "metadata": {
        "colab": {
          "base_uri": "https://localhost:8080/"
        },
        "id": "wpo4tffkEuf2",
        "outputId": "0f03f84a-33f5-4021-d929-839f33b30b97"
      },
      "source": [
        "history.history.keys()"
      ],
      "execution_count": 21,
      "outputs": [
        {
          "output_type": "execute_result",
          "data": {
            "text/plain": [
              "dict_keys(['loss', 'accuracy', 'val_loss', 'val_accuracy'])"
            ]
          },
          "metadata": {},
          "execution_count": 21
        }
      ]
    },
    {
      "cell_type": "code",
      "metadata": {
        "colab": {
          "base_uri": "https://localhost:8080/",
          "height": 323
        },
        "id": "i059l1UEEk9M",
        "outputId": "b7548fbe-c2d9-4f6c-c2e8-8d8f1015b60b"
      },
      "source": [
        "plt.style.use('ggplot')\n",
        "\n",
        "def plot_history(history):\n",
        "    acc = history.history['accuracy']\n",
        "    val_acc = history.history['val_accuracy']\n",
        "    loss = history.history['loss']\n",
        "    val_loss = history.history['val_loss']\n",
        "    x = range(1, len(acc) + 1)\n",
        "\n",
        "    plt.figure(figsize=(12, 5))\n",
        "    plt.subplot(1, 2, 1)\n",
        "    plt.plot(x, acc, 'b', label='Training acc')\n",
        "    plt.plot(x, val_acc, 'r', label='Validation acc')\n",
        "    plt.title('Training and validation accuracy')\n",
        "    plt.legend()\n",
        "    plt.subplot(1, 2, 2)\n",
        "    plt.plot(x, loss, 'b', label='Training loss')\n",
        "    plt.plot(x, val_loss, 'r', label='Validation loss')\n",
        "    plt.title('Training and validation loss')\n",
        "    plt.legend()\n",
        "plot_history(history)"
      ],
      "execution_count": 22,
      "outputs": [
        {
          "output_type": "display_data",
          "data": {
            "image/png": "[encoded data removed]",
            "text/plain": [
              "<Figure size 864x360 with 2 Axes>"
            ]
          },
          "metadata": {}
        }
      ]
    },
    {
      "cell_type": "code",
      "metadata": {
        "colab": {
          "base_uri": "https://localhost:8080/"
        },
        "id": "t_X_bq63DGpg",
        "outputId": "1656ea08-2b6c-4a5e-f0e3-dc0827d6a742"
      },
      "source": [
        "cnn_model = Sequential()\n",
        "\n",
        "cnn_model.add(\n",
        "    Embedding(input_dim=word_count,\n",
        "              input_length=training_length,\n",
        "              output_dim=30,\n",
        "              trainable=True,\n",
        "              mask_zero=True))\n",
        "cnn_model.add(Masking(mask_value=0.0))\n",
        "cnn_model.add(Activation(\"relu\"))\n",
        "cnn_model.add(GlobalMaxPool1D())\n",
        "cnn_model.add(Dense(512, activation='relu'))\n",
        "cnn_model.add(Dropout(0.5))\n",
        "cnn_model.add(Dense(1, activation='sigmoid'))\n",
        "\n",
        "cnn_model.compile(\n",
        "    optimizer='adam', loss='binary_crossentropy', metrics=['accuracy'])\n",
        "cnn_model.summary()"
      ],
      "execution_count": 23,
      "outputs": [
        {
          "output_type": "stream",
          "name": "stdout",
          "text": [
            "Model: \"sequential_1\"\n",
            "_________________________________________________________________\n",
            "Layer (type)                 Output Shape              Param #   \n",
            "=================================================================\n",
            "embedding_1 (Embedding)      (None, 21, 30)            3058320   \n",
            "_________________________________________________________________\n",
            "masking_1 (Masking)          (None, 21, 30)            0         \n",
            "_________________________________________________________________\n",
            "activation_2 (Activation)    (None, 21, 30)            0         \n",
            "_________________________________________________________________\n",
            "global_max_pooling1d_1 (Glob (None, 30)                0         \n",
            "_________________________________________________________________\n",
            "dense_2 (Dense)              (None, 512)               15872     \n",
            "_________________________________________________________________\n",
            "dropout_1 (Dropout)          (None, 512)               0         \n",
            "_________________________________________________________________\n",
            "dense_3 (Dense)              (None, 1)                 513       \n",
            "=================================================================\n",
            "Total params: 3,074,705\n",
            "Trainable params: 3,074,705\n",
            "Non-trainable params: 0\n",
            "_________________________________________________________________\n"
          ]
        }
      ]
    },
    {
      "cell_type": "code",
      "metadata": {
        "colab": {
          "base_uri": "https://localhost:8080/"
        },
        "id": "hOjRKL7LD53X",
        "outputId": "0b727737-19d9-42e5-c071-d251d8e9c6f0"
      },
      "source": [
        "early_stopping=EarlyStopping(monitor='accuracy')  \n",
        "\n",
        "\n",
        "history = cnn_model.fit(X_train, y_train,\n",
        "                    batch_size=512,\n",
        "                    epochs=10,\n",
        "                    verbose=1,\n",
        "                    validation_split=0.1\n",
        "                   )# callbacks=[early_stopping])"
      ],
      "execution_count": 24,
      "outputs": [
        {
          "output_type": "stream",
          "name": "stdout",
          "text": [
            "Epoch 1/10\n",
            "319/319 [==============================] - 2s 5ms/step - loss: 0.6335 - accuracy: 0.6041 - val_loss: 0.6148 - val_accuracy: 0.6246\n",
            "Epoch 2/10\n",
            "319/319 [==============================] - 1s 4ms/step - loss: 0.5939 - accuracy: 0.6401 - val_loss: 0.6077 - val_accuracy: 0.6287\n",
            "Epoch 3/10\n",
            "319/319 [==============================] - 1s 4ms/step - loss: 0.5753 - accuracy: 0.6487 - val_loss: 0.6141 - val_accuracy: 0.6278\n",
            "Epoch 4/10\n",
            "319/319 [==============================] - 1s 4ms/step - loss: 0.5676 - accuracy: 0.6515 - val_loss: 0.6205 - val_accuracy: 0.6289\n",
            "Epoch 5/10\n",
            "319/319 [==============================] - 1s 4ms/step - loss: 0.5625 - accuracy: 0.6537 - val_loss: 0.6308 - val_accuracy: 0.6273\n",
            "Epoch 6/10\n",
            "319/319 [==============================] - 1s 4ms/step - loss: 0.5591 - accuracy: 0.6552 - val_loss: 0.6395 - val_accuracy: 0.6289\n",
            "Epoch 7/10\n",
            "319/319 [==============================] - 1s 4ms/step - loss: 0.5563 - accuracy: 0.6561 - val_loss: 0.6473 - val_accuracy: 0.6283\n",
            "Epoch 8/10\n",
            "319/319 [==============================] - 1s 4ms/step - loss: 0.5539 - accuracy: 0.6575 - val_loss: 0.6591 - val_accuracy: 0.6292\n",
            "Epoch 9/10\n",
            "319/319 [==============================] - 1s 4ms/step - loss: 0.5521 - accuracy: 0.6581 - val_loss: 0.6700 - val_accuracy: 0.6277\n",
            "Epoch 10/10\n",
            "319/319 [==============================] - 1s 4ms/step - loss: 0.5505 - accuracy: 0.6593 - val_loss: 0.6815 - val_accuracy: 0.6273\n"
          ]
        }
      ]
    },
    {
      "cell_type": "code",
      "metadata": {
        "colab": {
          "base_uri": "https://localhost:8080/"
        },
        "id": "jUUHISoyD7uo",
        "outputId": "7d558084-90f7-4c0c-ef86-356cb7839d9d"
      },
      "source": [
        "score = cnn_model.evaluate(X_valid, y_val, batch_size=512, verbose=1)\n",
        "print('\\n')\n",
        "print('Test score:', score[0])\n",
        "print('Test accuracy:', score[1])"
      ],
      "execution_count": 25,
      "outputs": [
        {
          "output_type": "stream",
          "name": "stdout",
          "text": [
            "45/45 [==============================] - 0s 2ms/step - loss: 0.6522 - accuracy: 0.6236\n",
            "\n",
            "\n",
            "Test score: 0.6521788835525513\n",
            "Test accuracy: 0.6235947608947754\n"
          ]
        }
      ]
    },
    {
      "cell_type": "code",
      "metadata": {
        "colab": {
          "base_uri": "https://localhost:8080/",
          "height": 323
        },
        "id": "tjliKxNMERxJ",
        "outputId": "0adaa045-aeda-4966-db8b-b1a2f5eb776e"
      },
      "source": [
        "plot_history(history)"
      ],
      "execution_count": 26,
      "outputs": [
        {
          "output_type": "display_data",
          "data": {
            "image/png": "[encoded data removed]",
            "text/plain": [
              "<Figure size 864x360 with 2 Axes>"
            ]
          },
          "metadata": {}
        }
      ]
    },
    {
      "cell_type": "code",
      "metadata": {
        "colab": {
          "base_uri": "https://localhost:8080/"
        },
        "id": "M09JMJSTFKK3",
        "outputId": "526d1644-deb0-413b-a6c9-3698e75d2262"
      },
      "source": [
        "from keras.layers import Dense, Dropout, Activation, Input, Embedding, Conv1D, GlobalMaxPool1D, SimpleRNN, LSTM, GRU, Masking, MaxPooling1D, Flatten\n",
        "# define model\n",
        "cnn_model = Sequential()\n",
        "cnn_model.add(Embedding(input_dim=word_count,\n",
        "              input_length=training_length,\n",
        "              output_dim=30,\n",
        "              trainable=True,\n",
        "              mask_zero=True))\n",
        "cnn_model.add(Conv1D(filters=32, kernel_size=8, activation='relu'))\n",
        "cnn_model.add(MaxPooling1D(pool_size=2))\n",
        "cnn_model.add(Flatten())\n",
        "cnn_model.add(Dense(10, activation='relu'))\n",
        "cnn_model.add(Dense(1, activation='sigmoid'))\n",
        "print(cnn_model.summary())"
      ],
      "execution_count": 29,
      "outputs": [
        {
          "output_type": "stream",
          "name": "stdout",
          "text": [
            "Model: \"sequential_4\"\n",
            "_________________________________________________________________\n",
            "Layer (type)                 Output Shape              Param #   \n",
            "=================================================================\n",
            "embedding_4 (Embedding)      (None, 21, 30)            3058320   \n",
            "_________________________________________________________________\n",
            "conv1d_4 (Conv1D)            (None, 14, 32)            7712      \n",
            "_________________________________________________________________\n",
            "max_pooling1d_1 (MaxPooling1 (None, 7, 32)             0         \n",
            "_________________________________________________________________\n",
            "flatten_1 (Flatten)          (None, 224)               0         \n",
            "_________________________________________________________________\n",
            "dense_6 (Dense)              (None, 10)                2250      \n",
            "_________________________________________________________________\n",
            "dense_7 (Dense)              (None, 1)                 11        \n",
            "=================================================================\n",
            "Total params: 3,068,293\n",
            "Trainable params: 3,068,293\n",
            "Non-trainable params: 0\n",
            "_________________________________________________________________\n",
            "None\n"
          ]
        }
      ]
    },
    {
      "cell_type": "code",
      "metadata": {
        "colab": {
          "base_uri": "https://localhost:8080/"
        },
        "id": "vO-1V8AIGMhE",
        "outputId": "3539c21b-f11f-4bc2-e19c-a25a57bce509"
      },
      "source": [
        "\n",
        "cnn_model.compile(\n",
        "    optimizer='adam', loss='binary_crossentropy', metrics=['accuracy'])\n",
        "cnn_model.summary()\n",
        "early_stopping=EarlyStopping(monitor='accuracy')  \n",
        "\n",
        "\n",
        "history = cnn_model.fit(X_train, y_train,\n",
        "                    batch_size=512,\n",
        "                    epochs=10,\n",
        "                    verbose=1,\n",
        "                    validation_split=0.1\n",
        "                   )# callbacks=[early_stopping])"
      ],
      "execution_count": 32,
      "outputs": [
        {
          "output_type": "stream",
          "name": "stdout",
          "text": [
            "Model: \"sequential_4\"\n",
            "_________________________________________________________________\n",
            "Layer (type)                 Output Shape              Param #   \n",
            "=================================================================\n",
            "embedding_4 (Embedding)      (None, 21, 30)            3058320   \n",
            "_________________________________________________________________\n",
            "conv1d_4 (Conv1D)            (None, 14, 32)            7712      \n",
            "_________________________________________________________________\n",
            "max_pooling1d_1 (MaxPooling1 (None, 7, 32)             0         \n",
            "_________________________________________________________________\n",
            "flatten_1 (Flatten)          (None, 224)               0         \n",
            "_________________________________________________________________\n",
            "dense_6 (Dense)              (None, 10)                2250      \n",
            "_________________________________________________________________\n",
            "dense_7 (Dense)              (None, 1)                 11        \n",
            "=================================================================\n",
            "Total params: 3,068,293\n",
            "Trainable params: 3,068,293\n",
            "Non-trainable params: 0\n",
            "_________________________________________________________________\n",
            "Epoch 1/10\n",
            "319/319 [==============================] - 2s 5ms/step - loss: 0.6370 - accuracy: 0.5991 - val_loss: 0.6126 - val_accuracy: 0.6281\n",
            "Epoch 2/10\n",
            "319/319 [==============================] - 1s 4ms/step - loss: 0.5899 - accuracy: 0.6411 - val_loss: 0.6081 - val_accuracy: 0.6284\n",
            "Epoch 3/10\n",
            "319/319 [==============================] - 1s 4ms/step - loss: 0.5722 - accuracy: 0.6502 - val_loss: 0.6140 - val_accuracy: 0.6274\n",
            "Epoch 4/10\n",
            "319/319 [==============================] - 1s 4ms/step - loss: 0.5628 - accuracy: 0.6539 - val_loss: 0.6197 - val_accuracy: 0.6275\n",
            "Epoch 5/10\n",
            "319/319 [==============================] - 1s 4ms/step - loss: 0.5551 - accuracy: 0.6586 - val_loss: 0.6363 - val_accuracy: 0.6288\n",
            "Epoch 6/10\n",
            "319/319 [==============================] - 1s 4ms/step - loss: 0.5489 - accuracy: 0.6613 - val_loss: 0.6507 - val_accuracy: 0.6284\n",
            "Epoch 7/10\n",
            "319/319 [==============================] - 1s 5ms/step - loss: 0.5431 - accuracy: 0.6650 - val_loss: 0.6581 - val_accuracy: 0.6294\n",
            "Epoch 8/10\n",
            "319/319 [==============================] - 1s 4ms/step - loss: 0.5386 - accuracy: 0.6673 - val_loss: 0.6691 - val_accuracy: 0.6284\n",
            "Epoch 9/10\n",
            "319/319 [==============================] - 1s 4ms/step - loss: 0.5351 - accuracy: 0.6688 - val_loss: 0.6838 - val_accuracy: 0.6273\n",
            "Epoch 10/10\n",
            "319/319 [==============================] - 1s 4ms/step - loss: 0.5323 - accuracy: 0.6704 - val_loss: 0.6941 - val_accuracy: 0.6268\n"
          ]
        }
      ]
    },
    {
      "cell_type": "code",
      "metadata": {
        "colab": {
          "base_uri": "https://localhost:8080/",
          "height": 323
        },
        "id": "TEgKn9MuGPGm",
        "outputId": "217c3bc4-7ca5-4416-bfbe-1fb32b7a4be5"
      },
      "source": [
        "plot_history(history)"
      ],
      "execution_count": 31,
      "outputs": [
        {
          "output_type": "display_data",
          "data": {
            "image/png": "[encoded data removed]",
            "text/plain": [
              "<Figure size 864x360 with 2 Axes>"
            ]
          },
          "metadata": {}
        }
      ]
    },
    {
      "cell_type": "markdown",
      "metadata": {
        "id": "HfQccsr9HQ5_"
      },
      "source": [
        "RNN MODEL"
      ]
    },
    {
      "cell_type": "code",
      "metadata": {
        "colab": {
          "base_uri": "https://localhost:8080/"
        },
        "id": "LELdZra_GnHk",
        "outputId": "b3b0fdc1-e91b-495c-c111-ed2eff0d6a1c"
      },
      "source": [
        "from keras.layers import Dense, Dropout, Activation, Input, Embedding, Conv1D, GlobalMaxPool1D, SimpleRNN, LSTM, GRU, Masking, Flatten\n",
        "# define model\n",
        "rnn_model = Sequential()\n",
        "rnn_model.add(Embedding(input_dim=word_count,\n",
        "              input_length=training_length,\n",
        "              output_dim=30,\n",
        "              trainable=True,\n",
        "              mask_zero=True))\n",
        "rnn_model.add(SimpleRNN(64))\n",
        "rnn_model.add(Flatten())\n",
        "rnn_model.add(Dense(10, activation='relu'))\n",
        "rnn_model.add(Dense(1, activation='sigmoid'))\n",
        "print(rnn_model.summary())"
      ],
      "execution_count": 33,
      "outputs": [
        {
          "output_type": "stream",
          "name": "stdout",
          "text": [
            "Model: \"sequential_5\"\n",
            "_________________________________________________________________\n",
            "Layer (type)                 Output Shape              Param #   \n",
            "=================================================================\n",
            "embedding_5 (Embedding)      (None, 21, 30)            3058320   \n",
            "_________________________________________________________________\n",
            "simple_rnn (SimpleRNN)       (None, 64)                6080      \n",
            "_________________________________________________________________\n",
            "flatten_2 (Flatten)          (None, 64)                0         \n",
            "_________________________________________________________________\n",
            "dense_8 (Dense)              (None, 10)                650       \n",
            "_________________________________________________________________\n",
            "dense_9 (Dense)              (None, 1)                 11        \n",
            "=================================================================\n",
            "Total params: 3,065,061\n",
            "Trainable params: 3,065,061\n",
            "Non-trainable params: 0\n",
            "_________________________________________________________________\n",
            "None\n"
          ]
        }
      ]
    },
    {
      "cell_type": "code",
      "metadata": {
        "id": "-QpyNLUpH77C"
      },
      "source": [
        "rnn_model.compile(\n",
        "    optimizer='adam', loss='binary_crossentropy', metrics=['accuracy'])"
      ],
      "execution_count": 34,
      "outputs": []
    },
    {
      "cell_type": "code",
      "metadata": {
        "colab": {
          "base_uri": "https://localhost:8080/"
        },
        "id": "1hmV6pASG0Xf",
        "outputId": "d3cc7118-f0b8-4ccd-c6bc-e85f863f29e3"
      },
      "source": [
        "early_stopping=EarlyStopping(monitor='accuracy')  \n",
        "\n",
        "\n",
        "history = rnn_model.fit(X_train, y_train,\n",
        "                    batch_size=512,\n",
        "                    epochs=10,\n",
        "                    verbose=1,\n",
        "                    validation_split=0.1\n",
        "                   )# callbacks=[early_stopping])"
      ],
      "execution_count": 35,
      "outputs": [
        {
          "output_type": "stream",
          "name": "stdout",
          "text": [
            "Epoch 1/10\n",
            "319/319 [==============================] - 11s 32ms/step - loss: 0.6240 - accuracy: 0.6151 - val_loss: 0.6068 - val_accuracy: 0.6300\n",
            "Epoch 2/10\n",
            "319/319 [==============================] - 11s 33ms/step - loss: 0.5826 - accuracy: 0.6449 - val_loss: 0.6075 - val_accuracy: 0.6301\n",
            "Epoch 3/10\n",
            "319/319 [==============================] - 10s 32ms/step - loss: 0.5650 - accuracy: 0.6538 - val_loss: 0.6178 - val_accuracy: 0.6292\n",
            "Epoch 4/10\n",
            "319/319 [==============================] - 10s 31ms/step - loss: 0.5536 - accuracy: 0.6578 - val_loss: 0.6281 - val_accuracy: 0.6265\n",
            "Epoch 5/10\n",
            "319/319 [==============================] - 10s 31ms/step - loss: 0.5467 - accuracy: 0.6604 - val_loss: 0.6398 - val_accuracy: 0.6281\n",
            "Epoch 6/10\n",
            "319/319 [==============================] - 10s 31ms/step - loss: 0.5427 - accuracy: 0.6616 - val_loss: 0.6490 - val_accuracy: 0.6257\n",
            "Epoch 7/10\n",
            "319/319 [==============================] - 10s 33ms/step - loss: 0.5398 - accuracy: 0.6631 - val_loss: 0.6617 - val_accuracy: 0.6263\n",
            "Epoch 8/10\n",
            "319/319 [==============================] - 10s 31ms/step - loss: 0.5375 - accuracy: 0.6638 - val_loss: 0.6684 - val_accuracy: 0.6261\n",
            "Epoch 9/10\n",
            "319/319 [==============================] - 10s 31ms/step - loss: 0.5360 - accuracy: 0.6641 - val_loss: 0.6703 - val_accuracy: 0.6248\n",
            "Epoch 10/10\n",
            "319/319 [==============================] - 10s 32ms/step - loss: 0.5347 - accuracy: 0.6648 - val_loss: 0.6781 - val_accuracy: 0.6253\n"
          ]
        }
      ]
    },
    {
      "cell_type": "code",
      "metadata": {
        "colab": {
          "base_uri": "https://localhost:8080/",
          "height": 323
        },
        "id": "XW5w6KDsH4WE",
        "outputId": "f3a0af08-06b3-41e9-c6fd-d3b523cfde22"
      },
      "source": [
        "plot_history(history)"
      ],
      "execution_count": 36,
      "outputs": [
        {
          "output_type": "display_data",
          "data": {
            "image/png": "[encoded data removed]",
            "text/plain": [
              "<Figure size 864x360 with 2 Axes>"
            ]
          },
          "metadata": {}
        }
      ]
    },
    {
      "cell_type": "code",
      "metadata": {
        "colab": {
          "base_uri": "https://localhost:8080/"
        },
        "id": "fB_f7WTfIcKM",
        "outputId": "3b54db21-2f86-4421-fe34-c901eff2c7b1"
      },
      "source": [
        "model = Sequential()\n",
        "\n",
        "model.add(\n",
        "    Embedding(input_dim=word_count,\n",
        "              input_length=training_length,\n",
        "              output_dim=30,\n",
        "              trainable=True,\n",
        "              mask_zero=True))\n",
        "model.add(Masking(mask_value=0.0))\n",
        "model.add(LSTM(64, recurrent_dropout=0.2))\n",
        "model.add(Dense(64, activation='relu'))\n",
        "model.add(Dropout(0.5))\n",
        "model.add(Dense(1, activation='sigmoid'))\n",
        "\n",
        "model.compile(\n",
        "    optimizer='adam', loss='binary_crossentropy', metrics=['accuracy'])\n",
        "\n",
        "early_stopping=EarlyStopping(monitor='val_loss')  \n",
        "\n",
        "\n",
        "history = model.fit(X_train, y_train,\n",
        "                    batch_size=512,\n",
        "                    epochs=10,\n",
        "                    verbose=1,\n",
        "                    validation_split=0.1,\n",
        "                    callbacks=[early_stopping])"
      ],
      "execution_count": 37,
      "outputs": [
        {
          "output_type": "stream",
          "name": "stdout",
          "text": [
            "WARNING:tensorflow:Layer lstm will not use cuDNN kernels since it doesn't meet the criteria. It will use a generic GPU kernel as fallback when running on GPU.\n",
            "Epoch 1/10\n",
            "319/319 [==============================] - 29s 85ms/step - loss: 0.6340 - accuracy: 0.6058 - val_loss: 0.6084 - val_accuracy: 0.6256\n"
          ]
        }
      ]
    },
    {
      "cell_type": "code",
      "metadata": {
        "colab": {
          "base_uri": "https://localhost:8080/",
          "height": 318
        },
        "id": "godG_eHkIl57",
        "outputId": "59bd8f18-3c61-42e2-8119-351d0108f0ef"
      },
      "source": [
        "plot_history(history)"
      ],
      "execution_count": 38,
      "outputs": [
        {
          "output_type": "display_data",
          "data": {
            "image/png": "[encoded data removed]",
            "text/plain": [
              "<Figure size 864x360 with 2 Axes>"
            ]
          },
          "metadata": {}
        }
      ]
    },
    {
      "cell_type": "code",
      "metadata": {
        "colab": {
          "base_uri": "https://localhost:8080/"
        },
        "id": "u98OTvB0IviD",
        "outputId": "89a5fa30-8ca1-4453-ba99-e13f8ef84b1d"
      },
      "source": [
        "model = Sequential()\n",
        "\n",
        "model.add(\n",
        "    Embedding(input_dim=word_count,\n",
        "              input_length=training_length,\n",
        "              output_dim=30,\n",
        "              trainable=True,\n",
        "              mask_zero=True))\n",
        "model.add(Masking(mask_value=0.0))\n",
        "model.add(GRU(64, recurrent_dropout=0.2))\n",
        "model.add(Dense(64, activation='relu'))\n",
        "model.add(Dropout(0.5))\n",
        "model.add(Dense(1, activation='sigmoid'))\n",
        "\n",
        "model.compile(\n",
        "    optimizer='adam', loss='binary_crossentropy', metrics=['accuracy'])\n",
        "\n",
        "early_stopping=EarlyStopping(monitor='val_loss')  \n",
        "\n",
        "\n",
        "history = model.fit(X_train, y_train,\n",
        "                    batch_size=512,\n",
        "                    epochs=10,\n",
        "                    verbose=1,\n",
        "                    validation_split=0.1,\n",
        "                    callbacks=[early_stopping])"
      ],
      "execution_count": 39,
      "outputs": [
        {
          "output_type": "stream",
          "name": "stdout",
          "text": [
            "WARNING:tensorflow:Layer gru will not use cuDNN kernels since it doesn't meet the criteria. It will use a generic GPU kernel as fallback when running on GPU.\n",
            "Epoch 1/10\n",
            "319/319 [==============================] - 26s 76ms/step - loss: 0.6316 - accuracy: 0.6089 - val_loss: 0.6086 - val_accuracy: 0.6279\n"
          ]
        }
      ]
    },
    {
      "cell_type": "markdown",
      "metadata": {
        "id": "ipTiw7ANJCsu"
      },
      "source": [
        "3. построить совместные архитектуры CNN -> RNN и (RNN -> CNN)"
      ]
    },
    {
      "cell_type": "code",
      "metadata": {
        "colab": {
          "base_uri": "https://localhost:8080/"
        },
        "id": "bgv3Y6IMI2H7",
        "outputId": "bcf12f89-5f03-433b-dbba-5d089f3e74e9"
      },
      "source": [
        "model = Sequential()\n",
        "\n",
        "model.add(\n",
        "    Embedding(input_dim=word_count,\n",
        "              input_length=training_length,\n",
        "              output_dim=30,\n",
        "              trainable=True,\n",
        "              mask_zero=True))\n",
        "model.add(Masking(mask_value=0.0))\n",
        "model.add(Conv1D(128, 4))\n",
        "model.add(Activation(\"relu\"))\n",
        "model.add(Conv1D(128, 4))\n",
        "model.add(Activation(\"relu\"))\n",
        "model.add(GRU(64, recurrent_dropout=0.2))\n",
        "model.add(Dense(64, activation='relu'))\n",
        "model.add(Dropout(0.5))\n",
        "model.add(Dense(1, activation='sigmoid'))\n",
        "\n",
        "model.compile(\n",
        "    optimizer='adam', loss='binary_crossentropy', metrics=['accuracy'])\n",
        "\n",
        "early_stopping=EarlyStopping(monitor='val_loss')  \n",
        "\n",
        "\n",
        "history = model.fit(X_train, y_train,\n",
        "                    batch_size=512,\n",
        "                    epochs=10,\n",
        "                    verbose=1,\n",
        "                    validation_split=0.1,\n",
        "                    callbacks=[early_stopping])"
      ],
      "execution_count": 42,
      "outputs": [
        {
          "output_type": "stream",
          "name": "stdout",
          "text": [
            "WARNING:tensorflow:Layer gru_1 will not use cuDNN kernels since it doesn't meet the criteria. It will use a generic GPU kernel as fallback when running on GPU.\n",
            "Epoch 1/10\n",
            "319/319 [==============================] - 19s 53ms/step - loss: 0.6286 - accuracy: 0.6074 - val_loss: 0.6069 - val_accuracy: 0.6265\n"
          ]
        }
      ]
    },
    {
      "cell_type": "code",
      "metadata": {
        "id": "yyncH3tvab3i"
      },
      "source": [
        ""
      ],
      "execution_count": null,
      "outputs": []
    }
  ]
}